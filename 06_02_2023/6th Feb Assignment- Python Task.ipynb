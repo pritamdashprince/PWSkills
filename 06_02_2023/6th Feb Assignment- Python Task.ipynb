{
 "cells": [
  {
   "cell_type": "markdown",
   "id": "1b67af74",
   "metadata": {},
   "source": [
    "#### Q1. Create a function which will take a list as an argument and return the product of all the numbers after creating a flat list. Use the below-given list as an argument for your function.\n",
    "list1 = [1,2,3,4, [44,55,66, True], False, (34,56,78,89,34), {1,2,3,3,2,1}, {1:34, \"key2\": [55, 67, 78, 89], 4: (45,\n",
    "22, 61, 34)}, [56, 'data science'], 'Machine Learning']\n",
    "#### Note: you must extract numeric keys and values of the dictionary also."
   ]
  },
  {
   "cell_type": "code",
   "execution_count": 1,
   "id": "98020054",
   "metadata": {},
   "outputs": [],
   "source": [
    "list1 = [1,2,3,4, [44,55,66, True], False, (34,56,78,89,34), {1,2,3,3,2,1}, {1:34, \"key2\": [55, 67, 78, 89], 4: (45, 22, 61, 34)}, [56, 'data science'], 'Machine Learning']"
   ]
  },
  {
   "cell_type": "code",
   "execution_count": 2,
   "id": "2ce7448a",
   "metadata": {},
   "outputs": [],
   "source": [
    "def flat_list(li):\n",
    "    flat = []\n",
    "    iterable = False\n",
    "    for i in li:\n",
    "        if hasattr(i,'__iter__') and type(i) is not str:\n",
    "            iterable = True\n",
    "            if type(i) is dict:\n",
    "                flat+=list(i.keys())+list(i.values())\n",
    "            else:\n",
    "                flat+=list(i)\n",
    "        else:\n",
    "            flat.append(i)\n",
    "    return flat, iterable"
   ]
  },
  {
   "cell_type": "code",
   "execution_count": 3,
   "id": "25d46a7e",
   "metadata": {},
   "outputs": [],
   "source": [
    "from functools import reduce\n",
    "\n",
    "def fun(li):\n",
    "    # Creating a flat list\n",
    "    iterable = True\n",
    "    while iterable:\n",
    "        flat, iterable = flat_list(li)\n",
    "        li = flat\n",
    "    print(f\"The flat list is {flat}\")\n",
    "    \n",
    "    #Creating a list containing only numbers (int and float)\n",
    "    num_li = [i for i in li if type(i) in [int, float]]\n",
    "    print(f\"\\nThe number list is {num_li}\")\n",
    "    \n",
    "    #Returning product using reduce and lambda functions\n",
    "    return reduce(lambda x,y :x*y, num_li)"
   ]
  },
  {
   "cell_type": "code",
   "execution_count": 4,
   "id": "c2a392f8",
   "metadata": {},
   "outputs": [
    {
     "name": "stdout",
     "output_type": "stream",
     "text": [
      "The flat list is [1, 2, 3, 4, 44, 55, 66, True, False, 34, 56, 78, 89, 34, 1, 2, 3, 1, 'key2', 4, 34, 55, 67, 78, 89, 45, 22, 61, 34, 56, 'data science', 'Machine Learning']\n",
      "\n",
      "The number list is [1, 2, 3, 4, 44, 55, 66, 34, 56, 78, 89, 34, 1, 2, 3, 1, 4, 34, 55, 67, 78, 89, 45, 22, 61, 34, 56]\n",
      "\n",
      "Product is 4134711838987085478833841242112000\n"
     ]
    }
   ],
   "source": [
    "print(f\"\\nProduct is {fun(list1)}\")"
   ]
  },
  {
   "cell_type": "markdown",
   "id": "4e13b40f",
   "metadata": {},
   "source": [
    "#### Q2. Write a python program for encrypting a message sent to you by your friend. The logic of encryption should be such that, for a the output should be z. For b, the output should be y. For c, the output should be x respectively. Also, the whitespace should be replaced with a dollar sign. Keep the punctuation marks unchanged.\n",
    "##### Input Sentence: I want to become a Data Scientist.\n",
    "##### Encrypt the above input sentence using the program you just created.\n",
    "#### Note: Convert the given input sentence into lowercase before encrypting. The final output should be lowercase."
   ]
  },
  {
   "cell_type": "code",
   "execution_count": 5,
   "id": "1eb03e35",
   "metadata": {},
   "outputs": [],
   "source": [
    "def encrypt(mssg):\n",
    "    mssg=mssg.lower()\n",
    "    \n",
    "    convert = \"\"\n",
    "    for i in mssg:\n",
    "        if ord('a')<=ord(i)<=ord('z'):\n",
    "               convert=convert+chr(ord('z')-ord(i)+ord('a'))\n",
    "        elif i == ' ':\n",
    "               convert=convert+'$'\n",
    "        else:\n",
    "               convert=convert+i\n",
    "    return convert"
   ]
  },
  {
   "cell_type": "code",
   "execution_count": 6,
   "id": "b810d3c9",
   "metadata": {},
   "outputs": [],
   "source": [
    "mssg = \"I want to become a Data Scientist.\""
   ]
  },
  {
   "cell_type": "code",
   "execution_count": 7,
   "id": "414ac505",
   "metadata": {},
   "outputs": [
    {
     "data": {
      "text/plain": [
       "'r$dzmg$gl$yvxlnv$z$wzgz$hxrvmgrhg.'"
      ]
     },
     "execution_count": 7,
     "metadata": {},
     "output_type": "execute_result"
    }
   ],
   "source": [
    "encrypt(mssg)"
   ]
  }
 ],
 "metadata": {
  "kernelspec": {
   "display_name": "Python 3 (ipykernel)",
   "language": "python",
   "name": "python3"
  },
  "language_info": {
   "codemirror_mode": {
    "name": "ipython",
    "version": 3
   },
   "file_extension": ".py",
   "mimetype": "text/x-python",
   "name": "python",
   "nbconvert_exporter": "python",
   "pygments_lexer": "ipython3",
   "version": "3.9.13"
  }
 },
 "nbformat": 4,
 "nbformat_minor": 5
}
