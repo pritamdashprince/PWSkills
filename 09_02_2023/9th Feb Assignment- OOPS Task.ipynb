{
 "cells": [
  {
   "cell_type": "markdown",
   "id": "255a1ab3",
   "metadata": {},
   "source": [
    "#### Q1, Create a vehicle class with an init method having instance variables as name_of_vehicle, max_speed and average_of_vehicle."
   ]
  },
  {
   "cell_type": "code",
   "execution_count": 1,
   "id": "d4675009",
   "metadata": {},
   "outputs": [],
   "source": [
    "class vehicle:\n",
    "    def __init__(self, name_of_vehicle, max_speed, average_of_vehicle):\n",
    "        self.name_of_vehicle=name_of_vehicle\n",
    "        self.max_speed=max_speed\n",
    "        self.average_of_vehicle=average_of_vehicle"
   ]
  },
  {
   "cell_type": "markdown",
   "id": "1aed2f85",
   "metadata": {},
   "source": [
    "#### Q2. Create a child class car from the vehicle class created in Que 1, which will inherit the vehicle class. Create a method named seating_capacity which takes capacity as an argument and returns the name of the vehicle and its seating capacity."
   ]
  },
  {
   "cell_type": "code",
   "execution_count": 2,
   "id": "cdd5afd1",
   "metadata": {},
   "outputs": [],
   "source": [
    "class car(vehicle):\n",
    "    def __init__(self, name_of_vehicle, max_speed, average_of_vehicle):\n",
    "        vehicle.__init__(self, name_of_vehicle, max_speed, average_of_vehicle)\n",
    "        \n",
    "    def seating_capacity(self, capacity):\n",
    "        self.capacity=capacity\n",
    "        return self.name_of_vehicle,self.capacity"
   ]
  },
  {
   "cell_type": "code",
   "execution_count": 3,
   "id": "9bdfd85d",
   "metadata": {},
   "outputs": [],
   "source": [
    "Car=car(\"Maruti\",120,25)"
   ]
  },
  {
   "cell_type": "code",
   "execution_count": 4,
   "id": "688bdc73",
   "metadata": {},
   "outputs": [
    {
     "data": {
      "text/plain": [
       "('Maruti', 5)"
      ]
     },
     "execution_count": 4,
     "metadata": {},
     "output_type": "execute_result"
    }
   ],
   "source": [
    "Car.seating_capacity(5)"
   ]
  },
  {
   "cell_type": "markdown",
   "id": "2f816c5f",
   "metadata": {},
   "source": [
    "#### Q3. What is multiple inheritance? Write a python code to demonstrate multiple inheritance."
   ]
  },
  {
   "cell_type": "markdown",
   "id": "e8a7f490",
   "metadata": {},
   "source": [
    "Multiple inheritance is a feature of object-oriented programming (OOP) where a single class can inherit properties and methods from more than one parent class. It allows a derived class to inherit properties and methods from multiple base classes."
   ]
  },
  {
   "cell_type": "code",
   "execution_count": 5,
   "id": "c3233151",
   "metadata": {},
   "outputs": [],
   "source": [
    "class Shape:\n",
    "    def __init__(self,shape):\n",
    "        self.shape=shape\n",
    "    def get_shape(self):\n",
    "        return self.shape\n",
    "\n",
    "class Color:\n",
    "    def __init__(self,color):\n",
    "        self.color=color\n",
    "    def get_color(self):\n",
    "        return self.color\n",
    "        \n",
    "class ShapedColor(Shape, Color):\n",
    "    def __init__(self, shape, color):\n",
    "        Shape.__init__(self,shape)\n",
    "        Color.__init__(self,color)\n",
    "        \n",
    "    def details(self):\n",
    "        return self.shape, self.color\n",
    "        "
   ]
  },
  {
   "cell_type": "code",
   "execution_count": 6,
   "id": "785f9c2b",
   "metadata": {},
   "outputs": [],
   "source": [
    "a=ShapedColor(\"Rectangle\",\"White\")"
   ]
  },
  {
   "cell_type": "code",
   "execution_count": 7,
   "id": "4d52d4c2",
   "metadata": {},
   "outputs": [
    {
     "data": {
      "text/plain": [
       "'Rectangle'"
      ]
     },
     "execution_count": 7,
     "metadata": {},
     "output_type": "execute_result"
    }
   ],
   "source": [
    "a.get_shape()"
   ]
  },
  {
   "cell_type": "code",
   "execution_count": 8,
   "id": "b9272052",
   "metadata": {},
   "outputs": [
    {
     "data": {
      "text/plain": [
       "'White'"
      ]
     },
     "execution_count": 8,
     "metadata": {},
     "output_type": "execute_result"
    }
   ],
   "source": [
    "a.get_color()"
   ]
  },
  {
   "cell_type": "code",
   "execution_count": 9,
   "id": "17597587",
   "metadata": {},
   "outputs": [
    {
     "data": {
      "text/plain": [
       "('Rectangle', 'White')"
      ]
     },
     "execution_count": 9,
     "metadata": {},
     "output_type": "execute_result"
    }
   ],
   "source": [
    "a.details()"
   ]
  },
  {
   "cell_type": "markdown",
   "id": "1aee64d7",
   "metadata": {},
   "source": [
    "#### Q4. What are getter and setter in python? Create a class and create a getter and a setter method in this class."
   ]
  },
  {
   "cell_type": "markdown",
   "id": "bee6fc9c",
   "metadata": {},
   "source": [
    "In Python, getter and setter methods are used to get or set the value of an instance variable. They are usually used to encapsulate the internal state of an object and control access to it.\n",
    "\n",
    "Getters are used to retrieve the value of an instance variable, while setters are used to set the value of an instance variable."
   ]
  },
  {
   "cell_type": "code",
   "execution_count": 10,
   "id": "41b7bc3b",
   "metadata": {},
   "outputs": [],
   "source": [
    "class Person:\n",
    "    def __init__(self, name, age):\n",
    "        self.__name = name\n",
    "        self.__age = age\n",
    "    def get_age(self):\n",
    "        return self.__age\n",
    "    def get_name(self):\n",
    "        return self.__name\n",
    "    def set_age(self,age):\n",
    "        self.__age=age\n",
    "    def set_name(self,name):\n",
    "        self.__name=name"
   ]
  },
  {
   "cell_type": "code",
   "execution_count": 11,
   "id": "0b6aaa9d",
   "metadata": {},
   "outputs": [],
   "source": [
    "person=Person(\"Prince\",23)"
   ]
  },
  {
   "cell_type": "code",
   "execution_count": 12,
   "id": "b6612b60",
   "metadata": {},
   "outputs": [
    {
     "data": {
      "text/plain": [
       "23"
      ]
     },
     "execution_count": 12,
     "metadata": {},
     "output_type": "execute_result"
    }
   ],
   "source": [
    "person.get_age()"
   ]
  },
  {
   "cell_type": "code",
   "execution_count": 13,
   "id": "d701942b",
   "metadata": {},
   "outputs": [],
   "source": [
    "person.set_name(\"Pritam\")"
   ]
  },
  {
   "cell_type": "code",
   "execution_count": 14,
   "id": "76afca57",
   "metadata": {},
   "outputs": [
    {
     "data": {
      "text/plain": [
       "'Pritam'"
      ]
     },
     "execution_count": 14,
     "metadata": {},
     "output_type": "execute_result"
    }
   ],
   "source": [
    "person.get_name()"
   ]
  },
  {
   "cell_type": "markdown",
   "id": "4e70801a",
   "metadata": {},
   "source": [
    "#### Q5. What is method overriding in python? Write a python code to demonstrate method overriding."
   ]
  },
  {
   "cell_type": "markdown",
   "id": "3ea13b4b",
   "metadata": {},
   "source": [
    "Method overriding is a feature in object-oriented programming that allows a subclass to provide a different implementation of a method that is already defined in its superclass. In other words, it allows the subclass to override or extend the behavior of the method inherited from its superclass."
   ]
  },
  {
   "cell_type": "code",
   "execution_count": 15,
   "id": "0240a685",
   "metadata": {},
   "outputs": [],
   "source": [
    "class Mammal:\n",
    "    def get_legs(self):\n",
    "        print(\"4 legs\")\n",
    "    def reproduce(self):\n",
    "        print(\"By birth\")\n",
    "        \n",
    "class Human(Mammal):\n",
    "    def get_legs(self):\n",
    "        print(\"2 legs\")\n",
    "        \n",
    "class Whale(Mammal):\n",
    "    def get_legs(self):\n",
    "        print(\"0 legs\")\n",
    "\n",
    "class Dog(Mammal):\n",
    "    pass"
   ]
  },
  {
   "cell_type": "code",
   "execution_count": 16,
   "id": "ac3279eb",
   "metadata": {},
   "outputs": [
    {
     "name": "stdout",
     "output_type": "stream",
     "text": [
      "4 legs\n",
      "By birth\n"
     ]
    }
   ],
   "source": [
    "dog=Dog()\n",
    "dog.get_legs()\n",
    "dog.reproduce()"
   ]
  },
  {
   "cell_type": "code",
   "execution_count": 17,
   "id": "6dca108e",
   "metadata": {},
   "outputs": [
    {
     "name": "stdout",
     "output_type": "stream",
     "text": [
      "2 legs\n",
      "By birth\n"
     ]
    }
   ],
   "source": [
    "human=Human()\n",
    "human.get_legs()\n",
    "human.reproduce()"
   ]
  },
  {
   "cell_type": "code",
   "execution_count": 18,
   "id": "50c5cf7c",
   "metadata": {},
   "outputs": [
    {
     "name": "stdout",
     "output_type": "stream",
     "text": [
      "0 legs\n",
      "By birth\n"
     ]
    }
   ],
   "source": [
    "whale=Whale()\n",
    "whale.get_legs()\n",
    "whale.reproduce()"
   ]
  }
 ],
 "metadata": {
  "kernelspec": {
   "display_name": "Python 3 (ipykernel)",
   "language": "python",
   "name": "python3"
  },
  "language_info": {
   "codemirror_mode": {
    "name": "ipython",
    "version": 3
   },
   "file_extension": ".py",
   "mimetype": "text/x-python",
   "name": "python",
   "nbconvert_exporter": "python",
   "pygments_lexer": "ipython3",
   "version": "3.9.13"
  }
 },
 "nbformat": 4,
 "nbformat_minor": 5
}
