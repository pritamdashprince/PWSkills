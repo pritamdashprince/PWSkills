{
 "cells": [
  {
   "cell_type": "markdown",
   "id": "661b7b77",
   "metadata": {},
   "source": [
    "#### Q1. Create a python program to sort the given list of tuples based on integer value using a lambda function.\n",
    "[('Sachin Tendulkar', 34357), ('Ricky Ponting', 27483), ('Jack Kallis', 25534), ('Virat Kohli', 24936)]"
   ]
  },
  {
   "cell_type": "code",
   "execution_count": 1,
   "id": "7f38c273",
   "metadata": {},
   "outputs": [],
   "source": [
    "li1=[('Sachin Tendulkar', 34357), ('Ricky Ponting', 27483), ('Jack Kallis', 25534), ('Virat Kohli', 24936)]"
   ]
  },
  {
   "cell_type": "code",
   "execution_count": 2,
   "id": "e26e2b9e",
   "metadata": {},
   "outputs": [],
   "source": [
    "ans1=sorted(li1,key=lambda x:x[1])"
   ]
  },
  {
   "cell_type": "code",
   "execution_count": 3,
   "id": "cdf68f8a",
   "metadata": {},
   "outputs": [
    {
     "name": "stdout",
     "output_type": "stream",
     "text": [
      "[('Virat Kohli', 24936), ('Jack Kallis', 25534), ('Ricky Ponting', 27483), ('Sachin Tendulkar', 34357)]\n"
     ]
    }
   ],
   "source": [
    "print(ans1)"
   ]
  },
  {
   "cell_type": "markdown",
   "id": "f1c06076",
   "metadata": {},
   "source": [
    "#### Q2. Write a Python Program to find the squares of all the numbers in the given list of integers using lambda and map functions.\n",
    "[1, 2, 3, 4, 5, 6, 7, 8, 9, 10]"
   ]
  },
  {
   "cell_type": "code",
   "execution_count": 4,
   "id": "52546fe7",
   "metadata": {},
   "outputs": [],
   "source": [
    "li2=[1, 2, 3, 4, 5, 6, 7, 8, 9, 10]"
   ]
  },
  {
   "cell_type": "code",
   "execution_count": 5,
   "id": "cf85c001",
   "metadata": {},
   "outputs": [],
   "source": [
    "ans2=list(map(lambda x:x**2, li2))"
   ]
  },
  {
   "cell_type": "code",
   "execution_count": 6,
   "id": "9a27c7eb",
   "metadata": {},
   "outputs": [
    {
     "name": "stdout",
     "output_type": "stream",
     "text": [
      "[1, 4, 9, 16, 25, 36, 49, 64, 81, 100]\n"
     ]
    }
   ],
   "source": [
    "print(ans2)"
   ]
  },
  {
   "cell_type": "markdown",
   "id": "feacfe93",
   "metadata": {},
   "source": [
    "#### Q3. Write a python program to convert the given list of integers into a tuple of strings. Use map and lambda functions\n",
    "Given String: [1, 2, 3, 4, 5, 6, 7, 8, 9, 10]\n",
    "<br>Expected output: ('1', '2', '3', '4', '5', '6', '7', '8', '9', '10')"
   ]
  },
  {
   "cell_type": "code",
   "execution_count": 7,
   "id": "ca82d824",
   "metadata": {},
   "outputs": [],
   "source": [
    "li3= [1, 2, 3, 4, 5, 6, 7, 8, 9, 10]"
   ]
  },
  {
   "cell_type": "code",
   "execution_count": 8,
   "id": "a26e76b8",
   "metadata": {},
   "outputs": [],
   "source": [
    "ans3=tuple(map(lambda x:str(x), li3))"
   ]
  },
  {
   "cell_type": "code",
   "execution_count": 9,
   "id": "cadaeeb9",
   "metadata": {},
   "outputs": [
    {
     "name": "stdout",
     "output_type": "stream",
     "text": [
      "('1', '2', '3', '4', '5', '6', '7', '8', '9', '10')\n"
     ]
    }
   ],
   "source": [
    "print(ans3)"
   ]
  },
  {
   "cell_type": "markdown",
   "id": "685ce198",
   "metadata": {},
   "source": [
    "#### Q4. Write a python program using reduce function to compute the product of a list containing numbers from 1 to 25."
   ]
  },
  {
   "cell_type": "code",
   "execution_count": 10,
   "id": "7a37d1f5",
   "metadata": {},
   "outputs": [],
   "source": [
    "from functools import reduce"
   ]
  },
  {
   "cell_type": "code",
   "execution_count": 11,
   "id": "1de4b556",
   "metadata": {},
   "outputs": [],
   "source": [
    "li4= [i+1 for i in range(25)]"
   ]
  },
  {
   "cell_type": "code",
   "execution_count": 12,
   "id": "fa17be55",
   "metadata": {},
   "outputs": [],
   "source": [
    "ans4=reduce(lambda x,y:x*y, li4)"
   ]
  },
  {
   "cell_type": "code",
   "execution_count": 13,
   "id": "2183dbd9",
   "metadata": {},
   "outputs": [
    {
     "name": "stdout",
     "output_type": "stream",
     "text": [
      "15511210043330985984000000\n"
     ]
    }
   ],
   "source": [
    "print(ans4)"
   ]
  },
  {
   "cell_type": "markdown",
   "id": "140059a1",
   "metadata": {},
   "source": [
    "#### Q5. Write a python program to filter the numbers in a given list that are divisible by 2 and 3 using the filter function.\n",
    "[2, 3, 6, 9, 27, 60, 90, 120, 55, 46]"
   ]
  },
  {
   "cell_type": "code",
   "execution_count": 14,
   "id": "adfaa681",
   "metadata": {},
   "outputs": [],
   "source": [
    "li5= [2, 3, 6, 9, 27, 60, 90, 120, 55, 46]"
   ]
  },
  {
   "cell_type": "code",
   "execution_count": 15,
   "id": "6a4ae0eb",
   "metadata": {},
   "outputs": [],
   "source": [
    "ans5= list(filter(lambda x:x%6==0, li5))"
   ]
  },
  {
   "cell_type": "code",
   "execution_count": 16,
   "id": "8f6be2bf",
   "metadata": {},
   "outputs": [
    {
     "name": "stdout",
     "output_type": "stream",
     "text": [
      "[6, 60, 90, 120]\n"
     ]
    }
   ],
   "source": [
    "print(ans5)"
   ]
  },
  {
   "cell_type": "markdown",
   "id": "4c16216c",
   "metadata": {},
   "source": [
    "#### Q6. Write a python program to find palindromes in the given list of strings using lambda and filter function.\n",
    "['python', 'php', 'aba', 'radar', 'level']"
   ]
  },
  {
   "cell_type": "code",
   "execution_count": 17,
   "id": "2e1ccecb",
   "metadata": {},
   "outputs": [],
   "source": [
    "li6 = ['python', 'php', 'aba', 'radar', 'level']"
   ]
  },
  {
   "cell_type": "code",
   "execution_count": 18,
   "id": "1c1b5d64",
   "metadata": {},
   "outputs": [],
   "source": [
    "ans6= list(filter(lambda x: x==x[::-1], li6))"
   ]
  },
  {
   "cell_type": "code",
   "execution_count": 19,
   "id": "79c9ae2f",
   "metadata": {},
   "outputs": [
    {
     "name": "stdout",
     "output_type": "stream",
     "text": [
      "['php', 'aba', 'radar', 'level']\n"
     ]
    }
   ],
   "source": [
    "print(ans6)"
   ]
  }
 ],
 "metadata": {
  "kernelspec": {
   "display_name": "Python 3 (ipykernel)",
   "language": "python",
   "name": "python3"
  },
  "language_info": {
   "codemirror_mode": {
    "name": "ipython",
    "version": 3
   },
   "file_extension": ".py",
   "mimetype": "text/x-python",
   "name": "python",
   "nbconvert_exporter": "python",
   "pygments_lexer": "ipython3",
   "version": "3.9.13"
  }
 },
 "nbformat": 4,
 "nbformat_minor": 5
}
