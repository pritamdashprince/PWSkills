{
 "cells": [
  {
   "cell_type": "markdown",
   "id": "5e50b3eb",
   "metadata": {},
   "source": [
    "#### Q1. Which keyword is used to create a function? Create a function to return a list of odd numbers in the range of 1 to 25."
   ]
  },
  {
   "cell_type": "markdown",
   "id": "81a92fce",
   "metadata": {},
   "source": [
    "def keyword is used to create a function."
   ]
  },
  {
   "cell_type": "code",
   "execution_count": 1,
   "id": "7e5b0dc3",
   "metadata": {},
   "outputs": [],
   "source": [
    "def odd():\n",
    "    li=[i for i in range(1,26) if i&1]\n",
    "    return li"
   ]
  },
  {
   "cell_type": "code",
   "execution_count": 2,
   "id": "1b99f981",
   "metadata": {},
   "outputs": [
    {
     "name": "stdout",
     "output_type": "stream",
     "text": [
      "[1, 3, 5, 7, 9, 11, 13, 15, 17, 19, 21, 23, 25]\n"
     ]
    }
   ],
   "source": [
    "print(odd())"
   ]
  },
  {
   "cell_type": "markdown",
   "id": "7d75dc5a",
   "metadata": {},
   "source": [
    "#### Q2. Why \\*args and \\*\\*kwargs is used in some functions? Create a function each for \\*args and \\*\\*kwargs to demonstrate their use."
   ]
  },
  {
   "cell_type": "markdown",
   "id": "adc544f5",
   "metadata": {},
   "source": [
    "\\*args and \\*\\*kwargs are used in function definitions to allow the function to accept a variable number of arguments. \\*args is used to send a non-keyworded variable length argument in the form of \"tuple\" object to the function and \\*\\*kwargs allows you to pass keyworded variable length of arguments in the form of \"dictionary\" object to a function."
   ]
  },
  {
   "cell_type": "code",
   "execution_count": 3,
   "id": "dda50114",
   "metadata": {},
   "outputs": [],
   "source": [
    "def fun1(*args):\n",
    "    for i in args:\n",
    "        print(i)"
   ]
  },
  {
   "cell_type": "code",
   "execution_count": 4,
   "id": "3e2b72b1",
   "metadata": {},
   "outputs": [
    {
     "name": "stdout",
     "output_type": "stream",
     "text": [
      "5\n",
      "7\n",
      "Hello\n",
      "(2,)\n"
     ]
    }
   ],
   "source": [
    "fun1(5,7,\"Hello\",(2,))"
   ]
  },
  {
   "cell_type": "code",
   "execution_count": 5,
   "id": "28e9c674",
   "metadata": {},
   "outputs": [],
   "source": [
    "def fun2(**kwargs):\n",
    "    for key,value in kwargs.items():\n",
    "        print(key,\":\",value)"
   ]
  },
  {
   "cell_type": "code",
   "execution_count": 6,
   "id": "71cfb0dd",
   "metadata": {},
   "outputs": [
    {
     "name": "stdout",
     "output_type": "stream",
     "text": [
      "a : 5\n",
      "b : 3\n",
      "c : 8\n"
     ]
    }
   ],
   "source": [
    "fun2(a=5, b=3, c=8)"
   ]
  },
  {
   "cell_type": "markdown",
   "id": "99ffe357",
   "metadata": {},
   "source": [
    "#### Q3. What is an iterator in python? Name the method used to initialise the iterator object and the method used for iteration. Use these methods to print the first five elements of the given list [2, 4, 6, 8, 10, 12, 14, 16, 18, 20]."
   ]
  },
  {
   "cell_type": "markdown",
   "id": "94e3aa10",
   "metadata": {},
   "source": [
    "Iterator in Python is an object that is used to iterate over iterable objects like lists, tuples, dicts, and sets. The iterator object is initialized using the iter() method. It uses the next() method for iteration."
   ]
  },
  {
   "cell_type": "code",
   "execution_count": 7,
   "id": "5474f734",
   "metadata": {},
   "outputs": [],
   "source": [
    "li=[2,4,6,8,10,12,14,16,18,20]"
   ]
  },
  {
   "cell_type": "code",
   "execution_count": 8,
   "id": "44dd0509",
   "metadata": {},
   "outputs": [],
   "source": [
    "li_iter=iter(li)"
   ]
  },
  {
   "cell_type": "code",
   "execution_count": 9,
   "id": "767be534",
   "metadata": {},
   "outputs": [
    {
     "name": "stdout",
     "output_type": "stream",
     "text": [
      "2\n",
      "4\n",
      "6\n",
      "8\n",
      "10\n"
     ]
    }
   ],
   "source": [
    "for _ in range(5):\n",
    "    print(next(li_iter))"
   ]
  },
  {
   "cell_type": "markdown",
   "id": "081211c5",
   "metadata": {},
   "source": [
    "#### Q4. What is a generator function in python? Why yield keyword is used? Give an example of a generator function."
   ]
  },
  {
   "cell_type": "markdown",
   "id": "6ffbd8d1",
   "metadata": {},
   "source": [
    "A generator function in Python is a special type of function that returns an iterator, allowing the function to generate a sequence of values lazily. Unlike a normal function that runs to completion and returns a single value, a generator function generates a value, suspends its execution, and retains its state. When the generator function is called again, execution resumes from where it was previously suspended and continues until the next value is generated or until the function terminates.\n",
    "\n",
    "The yield keyword is used in a generator function to generate a value and return it to the caller. The execution of the function is suspended until the next value is requested. The yield keyword is what makes a function a generator function."
   ]
  },
  {
   "cell_type": "code",
   "execution_count": 10,
   "id": "4e7b0774",
   "metadata": {},
   "outputs": [],
   "source": [
    "def tribonacci(n):\n",
    "    a,b,c=0,1,1\n",
    "    for i in range(n):\n",
    "        yield a\n",
    "        a,b,c=b,c,a+b+c"
   ]
  },
  {
   "cell_type": "code",
   "execution_count": 11,
   "id": "8c0ebe3e",
   "metadata": {},
   "outputs": [
    {
     "name": "stdout",
     "output_type": "stream",
     "text": [
      "0\n",
      "1\n",
      "1\n",
      "2\n",
      "4\n",
      "7\n",
      "13\n",
      "24\n",
      "44\n",
      "81\n"
     ]
    }
   ],
   "source": [
    "f=tribonacci(10)\n",
    "for i in f:\n",
    "    print(i)"
   ]
  },
  {
   "cell_type": "markdown",
   "id": "5bf21e52",
   "metadata": {},
   "source": [
    "#### Q5. Create a generator function for prime numbers less than 1000. Use the next() method to print the first 20 prime numbers."
   ]
  },
  {
   "cell_type": "code",
   "execution_count": 12,
   "id": "9ef4161d",
   "metadata": {},
   "outputs": [],
   "source": [
    "def prime():\n",
    "    for i in range(2,1000):\n",
    "        pr=True\n",
    "        for j in range(2,int(i**0.5)+1):\n",
    "            if i%j==0:\n",
    "                pr=False\n",
    "                break\n",
    "        if pr:\n",
    "            yield i"
   ]
  },
  {
   "cell_type": "code",
   "execution_count": 13,
   "id": "9b2d16b3",
   "metadata": {},
   "outputs": [
    {
     "name": "stdout",
     "output_type": "stream",
     "text": [
      "2\n",
      "3\n",
      "5\n",
      "7\n",
      "11\n",
      "13\n",
      "17\n",
      "19\n",
      "23\n",
      "29\n",
      "31\n",
      "37\n",
      "41\n",
      "43\n",
      "47\n",
      "53\n",
      "59\n",
      "61\n",
      "67\n",
      "71\n"
     ]
    }
   ],
   "source": [
    "f=prime()\n",
    "for i in range(20):\n",
    "    print(next(f))"
   ]
  }
 ],
 "metadata": {
  "kernelspec": {
   "display_name": "Python 3 (ipykernel)",
   "language": "python",
   "name": "python3"
  },
  "language_info": {
   "codemirror_mode": {
    "name": "ipython",
    "version": 3
   },
   "file_extension": ".py",
   "mimetype": "text/x-python",
   "name": "python",
   "nbconvert_exporter": "python",
   "pygments_lexer": "ipython3",
   "version": "3.9.13"
  }
 },
 "nbformat": 4,
 "nbformat_minor": 5
}
