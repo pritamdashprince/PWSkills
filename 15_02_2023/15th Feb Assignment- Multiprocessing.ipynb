{
 "cells": [
  {
   "cell_type": "markdown",
   "id": "14f8a537",
   "metadata": {},
   "source": [
    "#### Q1. What is multiprocessing in python? Why is it useful?"
   ]
  },
  {
   "cell_type": "markdown",
   "id": "8b170c96",
   "metadata": {},
   "source": [
    "Multiprocessing in Python is a technique of parallel programming that involves the use of multiple processors or cores in a computer system to perform several tasks concurrently. In this technique, multiple processes are created, and each process runs independently and can perform different tasks at the same time.\n",
    "\n",
    "The main advantage of multiprocessing is that it allows programs to take advantage of the multiple cores and processors available on modern computers, and thus can significantly improve the performance of computationally intensive tasks. It is particularly useful for programs that need to process large amounts of data or perform complex calculations."
   ]
  },
  {
   "cell_type": "markdown",
   "id": "c924c9b3",
   "metadata": {},
   "source": [
    "#### Q2. What are the differences between multiprocessing and multithreading?"
   ]
  },
  {
   "cell_type": "markdown",
   "id": "b361f57c",
   "metadata": {},
   "source": [
    "* Resource utilization: In multiprocessing, each process gets its own separate memory space and system resources, such as CPU and memory. In contrast, in multithreading, all threads share the same memory space and system resources, which can result in resource contention and potential performance issues.\n",
    "\n",
    "* Concurrency: In multiprocessing, processes are truly concurrent, meaning they can run simultaneously on different cores or processors. In contrast, in multithreading, threads run concurrently but not necessarily simultaneously, and the operating system decides when to switch between threads.\n",
    "\n",
    "* Complexity: Multiprocessing can be more complex to implement than multithreading because processes need to communicate with each other using inter-process communication (IPC) mechanisms like pipes or queues. In contrast, multithreading allows for simpler communication between threads because they share the same memory space.\n",
    "\n",
    "* Fault tolerance: Multiprocessing offers better fault tolerance than multithreading because a failure in one process will not affect the other processes. In contrast, a failure in one thread can potentially cause the entire program to crash.\n",
    "\n",
    "* Performance: In some cases, multiprocessing can provide better performance than multithreading, especially for CPU-bound tasks that can be parallelized. However, multiprocessing also has higher overhead compared to multithreading, and there may be a cost associated with creating and managing multiple processes."
   ]
  },
  {
   "cell_type": "markdown",
   "id": "5ff0b83a",
   "metadata": {},
   "source": [
    "#### Q3. Write a python code to create a process using the multiprocessing module."
   ]
  },
  {
   "cell_type": "code",
   "execution_count": 1,
   "id": "61ab8c1b",
   "metadata": {},
   "outputs": [
    {
     "name": "stdout",
     "output_type": "stream",
     "text": [
      "pid: 169 and argument = 5\n"
     ]
    }
   ],
   "source": [
    "import multiprocessing\n",
    "\n",
    "def func(x):\n",
    "    print(f\"pid: {multiprocessing.current_process().pid} and argument = {x}\")\n",
    "    \n",
    "if __name__ == '__main__':\n",
    "    m = multiprocessing.Process(target=func, args=(5,))\n",
    "    m.start()\n",
    "    m.join()"
   ]
  },
  {
   "cell_type": "markdown",
   "id": "599cc65f",
   "metadata": {},
   "source": [
    "#### Q4. What is a multiprocessing pool in python? Why is it used?"
   ]
  },
  {
   "cell_type": "markdown",
   "id": "08f015ce",
   "metadata": {},
   "source": [
    "A multiprocessing pool in Python is a collection of worker processes that are used to execute a task in parallel. It provides a simple way to distribute work across multiple processes and take advantage of multi-core CPUs. The multiprocessing module in Python provides the Pool class to create a pool of worker processes.\n",
    "\n",
    "The Pool class divides a task into smaller sub-tasks and assigns them to the available worker processes in the pool. Once a worker process completes a sub-task, it is assigned another sub-task from the remaining ones until all sub-tasks are complete. The Pool class provides methods to start and manage the worker processes and to get the results of the sub-tasks.\n",
    "\n",
    "The Pool class is useful when you have a large amount of data or a CPU-bound task that can be divided into smaller sub-tasks. By using a pool of worker processes, you can speed up the task and utilize the processing power of your machine."
   ]
  },
  {
   "cell_type": "markdown",
   "id": "e5c39a22",
   "metadata": {},
   "source": [
    "#### Q5. How can we create a pool of worker processes in python using the multiprocessing module?"
   ]
  },
  {
   "cell_type": "markdown",
   "id": "71836572",
   "metadata": {},
   "source": [
    "To create a pool of worker processes in Python using the multiprocessing module, you need to follow these steps:\n",
    "\n",
    "* Import the multiprocessing module.\n",
    "* Define a function that you want to run in parallel across multiple processes.\n",
    "* Create a Pool object with the desired number of worker processes.\n",
    "* Use the map method of the Pool object to apply the function to a list of input values.\n",
    "* Get the results returned by the map method.\n",
    "\n",
    "Here is an example:"
   ]
  },
  {
   "cell_type": "code",
   "execution_count": 2,
   "id": "91bc32dc",
   "metadata": {},
   "outputs": [
    {
     "name": "stdout",
     "output_type": "stream",
     "text": [
      "[1, 4, 9, 16, 25]\n"
     ]
    }
   ],
   "source": [
    "import multiprocessing\n",
    "\n",
    "def square(x):\n",
    "    return x**2\n",
    "\n",
    "if __name__ == '__main__':\n",
    "    with multiprocessing.Pool(processes=4) as pool:\n",
    "        results = pool.map(square, [1, 2, 3, 4, 5])\n",
    "    print(results)"
   ]
  },
  {
   "cell_type": "markdown",
   "id": "997d19d7",
   "metadata": {},
   "source": [
    "#### Q6. Write a python program to create 4 processes, each process should print a different number using the multiprocessing module in python."
   ]
  },
  {
   "cell_type": "code",
   "execution_count": 3,
   "id": "62099ab9",
   "metadata": {},
   "outputs": [
    {
     "name": "stdout",
     "output_type": "stream",
     "text": [
      "Process 1: 1\n",
      "Process 2: 2\n",
      "Process 3: 3\n",
      "Process 4: 4\n"
     ]
    }
   ],
   "source": [
    "import multiprocessing\n",
    "\n",
    "def print_number(num):\n",
    "    print(f\"Process {num}: {num}\")\n",
    "\n",
    "if __name__ == '__main__':\n",
    "    processes = []\n",
    "    for i in range(1, 5):\n",
    "        process = multiprocessing.Process(target=print_number, args=(i,))\n",
    "        processes.append(process)\n",
    "        process.start()\n",
    "    for process in processes:\n",
    "        process.join()"
   ]
  }
 ],
 "metadata": {
  "kernelspec": {
   "display_name": "Python 3 (ipykernel)",
   "language": "python",
   "name": "python3"
  },
  "language_info": {
   "codemirror_mode": {
    "name": "ipython",
    "version": 3
   },
   "file_extension": ".py",
   "mimetype": "text/x-python",
   "name": "python",
   "nbconvert_exporter": "python",
   "pygments_lexer": "ipython3",
   "version": "3.10.8"
  }
 },
 "nbformat": 4,
 "nbformat_minor": 5
}
