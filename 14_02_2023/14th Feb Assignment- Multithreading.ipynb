{
 "cells": [
  {
   "cell_type": "markdown",
   "id": "2a302440",
   "metadata": {},
   "source": [
    "#### Q1. What is multithreading in python? Why is it used? Name the module used to handle threads in python."
   ]
  },
  {
   "cell_type": "markdown",
   "id": "cd8ed587",
   "metadata": {},
   "source": [
    "Multithreading is a technique in which a single process or program can have multiple threads of execution running concurrently, allowing the program to perform multiple tasks simultaneously. In Python, multithreading is a way to run multiple threads of execution within a single process.\n",
    "\n",
    "Multithreading is used to improve the performance of a program by allowing it to perform multiple tasks simultaneously. For example, if a program needs to perform a CPU-bound task while also waiting for user input, multithreading can be used to run the CPU-bound task on one thread while the main thread waits for user input. This can improve the overall responsiveness of the program.\n",
    "\n",
    "In Python, the threading module is used to handle threads. "
   ]
  },
  {
   "cell_type": "markdown",
   "id": "df49c743",
   "metadata": {},
   "source": [
    "#### Q2. Why threading module used? Write the use of the following functions\n",
    "* activeCount()\n",
    "* currentThread()\n",
    "* enumerate()"
   ]
  },
  {
   "cell_type": "markdown",
   "id": "4023bd12",
   "metadata": {},
   "source": [
    "The threading module in Python is used to create and manage threads in a program. It provides a way to run multiple threads of execution within a single process, allowing a program to perform multiple tasks simultaneously.\n",
    "* active_count() - This function returns the number of threads currently running in the program.\n",
    "* current_thread() - This function returns a reference to the current thread. This can be useful for identifying the current thread, for example, when logging.\n",
    "* enumerate() - This function returns a list of all thread objects in the program."
   ]
  },
  {
   "cell_type": "markdown",
   "id": "8f23d344",
   "metadata": {},
   "source": [
    "#### Q3. Explain the following functions\n",
    "* run()\n",
    "* start()\n",
    "* join()\n",
    "* isAlive()"
   ]
  },
  {
   "cell_type": "markdown",
   "id": "a87c60d6",
   "metadata": {},
   "source": [
    "* run(): This method represents the activity that the thread performs. When you subclass the Thread class and override the run() method with your own implementation, this is the code that will be executed when you call the start() method.\n",
    "\n",
    "* start(): This method is used to start a new thread of execution. It schedules the thread to be run by the Python interpreter and returns immediately. The run() method of the thread will be called in a separate thread of execution.\n",
    "\n",
    "* join(): This method is used to wait for a thread to finish. It blocks the calling thread until the thread being joined has finished. You can optionally pass a timeout value as an argument, which specifies the maximum amount of time to wait for the thread to finish.\n",
    "\n",
    "* isAlive(): This method is used to check whether a thread is still alive. It returns True if the thread is still running, and False otherwise."
   ]
  },
  {
   "cell_type": "markdown",
   "id": "4072958b",
   "metadata": {},
   "source": [
    "#### Q4. Write a python program to create two threads. Thread one must print the list of squares and thread two must print the list of cubes."
   ]
  },
  {
   "cell_type": "code",
   "execution_count": 1,
   "id": "56ec5c2e",
   "metadata": {},
   "outputs": [],
   "source": [
    "import threading"
   ]
  },
  {
   "cell_type": "code",
   "execution_count": 2,
   "id": "41504318",
   "metadata": {},
   "outputs": [],
   "source": [
    "def power(n):\n",
    "    for i in range(1,11):\n",
    "        print(i**n)"
   ]
  },
  {
   "cell_type": "code",
   "execution_count": 3,
   "id": "93501a87",
   "metadata": {},
   "outputs": [],
   "source": [
    "thread1 = threading.Thread(target=power, args=(2,))\n",
    "thread2 = threading.Thread(target=power, args=(3,))"
   ]
  },
  {
   "cell_type": "code",
   "execution_count": 4,
   "id": "e954e62c",
   "metadata": {},
   "outputs": [
    {
     "name": "stdout",
     "output_type": "stream",
     "text": [
      "1\n",
      "4\n",
      "9\n",
      "16\n",
      "25\n",
      "36\n",
      "49\n",
      "64\n",
      "81\n",
      "100\n",
      "1\n",
      "8\n",
      "27\n",
      "64\n",
      "125\n",
      "216\n",
      "343\n",
      "512\n",
      "729\n",
      "1000\n"
     ]
    }
   ],
   "source": [
    "thread1.start()\n",
    "thread2.start()"
   ]
  },
  {
   "cell_type": "markdown",
   "id": "adffdd15",
   "metadata": {},
   "source": [
    "#### Q5. State advantages and disadvantages of multithreading."
   ]
  },
  {
   "cell_type": "markdown",
   "id": "bd5b76ed",
   "metadata": {},
   "source": [
    "* Advantages:\n",
    "    1. Improved performance: Multithreading can improve the performance of an application by allowing it to execute multiple tasks in parallel.\n",
    "\n",
    "    2. Responsiveness: Multithreading can make an application more responsive by allowing it to continue executing tasks even when other threads are blocked or waiting for I/O.\n",
    "\n",
    "    3. Resource sharing: Multithreading can allow multiple threads to share resources such as memory, which can be more efficient than duplicating resources for each thread.\n",
    "\n",
    "    4. Simplified program structure: Multithreading can simplify the structure of a program by allowing related tasks to be grouped together in a single thread.\n",
    "\n",
    "\n",
    "* Disadvantages:\n",
    "    1. Increased complexity: Multithreading can make an application more complex and difficult to debug due to issues such as race conditions, deadlocks, and priority inversion.\n",
    "\n",
    "    2. Synchronization overhead: Multithreading requires synchronization mechanisms such as locks, semaphores, and condition variables, which can introduce overhead and reduce performance.\n",
    "\n",
    "    3. Resource contention: Multithreading can introduce resource contention issues, such as multiple threads competing for access to a shared resource, which can lead to performance degradation and deadlock.\n",
    "\n",
    "    4. Difficulty of scaling: Multithreading can be difficult to scale to larger systems due to issues such as load balancing and contention for shared resources."
   ]
  },
  {
   "cell_type": "markdown",
   "id": "0cfefac8",
   "metadata": {},
   "source": [
    "#### Q6. Explain deadlocks and race conditions."
   ]
  },
  {
   "cell_type": "markdown",
   "id": "89906ae8",
   "metadata": {},
   "source": [
    "Deadlocks and race conditions are two common concurrency problems that can occur in multithreaded applications. Here's an explanation of what they are:\n",
    "\n",
    "* Deadlocks: A deadlock is a situation in which two or more threads are blocked, each waiting for the other to release a resource, which they themselves hold. In other words, a deadlock occurs when two or more threads are stuck in a circular wait for resources that are held by the other thread(s). Deadlocks can occur when resources are not released in a timely or proper manner.\n",
    "\n",
    "For example, suppose thread A holds a lock on resource X and is waiting to acquire a lock on resource Y, while thread B holds a lock on resource Y and is waiting to acquire a lock on resource X. In this case, both threads will be blocked forever, since neither can proceed without first releasing the lock on the resource held by the other thread.\n",
    "\n",
    "* Race conditions: A race condition occurs when the behavior of a program depends on the relative timing of events in different threads or processes. In other words, a race condition occurs when two or more threads access a shared resource or variable in an unexpected or unpredictable order, leading to incorrect or unexpected results.\n",
    "\n",
    "For example, suppose two threads A and B are accessing a shared variable X, and both threads are trying to increment the value of X. If thread A reads the current value of X, and before it can increment the value, thread B reads the same value of X, increments it, and stores the result, then when thread A resumes and increments the old value, it will overwrite the new value stored by thread B, leading to an incorrect result.\n",
    "\n",
    "To avoid deadlocks and race conditions, it is important to carefully design and test the synchronization mechanisms used by threads to access shared resources, such as locks, semaphores, and condition variables. It is also important to follow best practices for concurrent programming, such as avoiding shared mutable state and using atomic operations and thread-safe data structures."
   ]
  }
 ],
 "metadata": {
  "kernelspec": {
   "display_name": "Python 3 (ipykernel)",
   "language": "python",
   "name": "python3"
  },
  "language_info": {
   "codemirror_mode": {
    "name": "ipython",
    "version": 3
   },
   "file_extension": ".py",
   "mimetype": "text/x-python",
   "name": "python",
   "nbconvert_exporter": "python",
   "pygments_lexer": "ipython3",
   "version": "3.9.13"
  }
 },
 "nbformat": 4,
 "nbformat_minor": 5
}
