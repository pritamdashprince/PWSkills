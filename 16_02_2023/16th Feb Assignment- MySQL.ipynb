{
 "cells": [
  {
   "cell_type": "markdown",
   "id": "b6db566a",
   "metadata": {},
   "source": [
    "#### Q1. What is a database? Differentiate between SQL and NoSQL databases."
   ]
  },
  {
   "cell_type": "markdown",
   "id": "a6c4ea21",
   "metadata": {},
   "source": [
    "A database is an organized collection of data, stored and managed in a structured format to enable efficient retrieval, modification, and querying of data. It is an essential part of modern software development and is used to store and manage various types of data, including financial records, inventory data, customer information, and much more.\n",
    "\n",
    "\n",
    "\n",
    "The main differences between SQL and NoSQL databases can be summarized as follows:\n",
    "\n",
    "* Data structure: SQL databases store data in a tabular format with fixed columns, while NoSQL databases use flexible data structures, including documents, key-value pairs, and graph structures.\n",
    "\n",
    "* Schema: SQL databases use a schema to define the structure of the data, while NoSQL databases do not have a fixed schema, and the data structure can be changed at any time.\n",
    "\n",
    "* Query language: SQL databases use SQL as a query language for managing and querying data, while NoSQL databases use their own query language, which may be based on JSON or other formats.\n",
    "\n",
    "* Scalability: NoSQL databases are more scalable than SQL databases and can handle large amounts of data and traffic more efficiently.\n",
    "\n",
    "* Use cases: SQL databases are well-suited for applications that require complex queries and transactions, while NoSQL databases are better suited for applications that require scalability, performance, and flexibility."
   ]
  },
  {
   "cell_type": "markdown",
   "id": "c9299200",
   "metadata": {},
   "source": [
    "#### Q2. What is DDL? Explain why CREATE, DROP, ALTER, and TRUNCATE are used with an example."
   ]
  },
  {
   "cell_type": "markdown",
   "id": "b1e12623",
   "metadata": {},
   "source": [
    "DDL stands for Data Definition Language, which is a sub-language used in SQL to define and manage the structure of a database. DDL commands are used to create, alter, and drop database objects such as tables, indexes, and views.\n",
    "\n",
    "Here are the explanations of the mentioned DDL commands:\n",
    "\n",
    "* CREATE: This command is used to create a new object in the database, such as a table or an index. For example, the following SQL command creates a new table named \"employees\" with three columns:<br>\n",
    "    \n",
    "    CREATE TABLE employees (\n",
    "    id INT PRIMARY KEY,\n",
    "    name VARCHAR(50),\n",
    "    age INT\n",
    "    );\n",
    "    <br>\n",
    "* DROP: This command is used to delete an existing object from the database. For example, the following SQL command drops the \"employees\" table:<br>\n",
    "\n",
    "    DROP TABLE employees;\n",
    "    <br>\n",
    "* ALTER: This command is used to modify the structure of an existing object in the database, such as adding or removing columns from a table. For example, the following SQL command adds a new column \"salary\" to the \"employees\" table:\n",
    "\n",
    "    ALTER TABLE employees\n",
    "    ADD COLUMN salary FLOAT;\n",
    "    <br>\n",
    "* TRUNCATE: This command is used to remove all the data from a table, while keeping the table structure intact. For example, the following SQL command removes all the data from the \"employees\" table:\n",
    "\n",
    "    TRUNCATE TABLE employees;"
   ]
  },
  {
   "cell_type": "markdown",
   "id": "1486a2ab",
   "metadata": {},
   "source": [
    "#### Q3. What is DML? Explain INSERT, UPDATE, and DELETE with an example."
   ]
  },
  {
   "cell_type": "markdown",
   "id": "c644e998",
   "metadata": {},
   "source": [
    "DML stands for Data Manipulation Language, which is a sub-language used in SQL to manipulate the data stored in a database. DML commands are used to insert, update, and delete data in tables.\n",
    "\n",
    "Here are the explanations of the mentioned DML commands:\n",
    "\n",
    "* INSERT: This command is used to insert new data into a table. For example, the following SQL command inserts a new row into the \"employees\" table:<br>\n",
    "\n",
    "    INSERT INTO employees (id, name, age, salary)\n",
    "    VALUES (1, 'John Doe', 30, 50000.00);\n",
    "    <br>\n",
    "* UPDATE: This command is used to modify existing data in a table. For example, the following SQL command updates the \"salary\" of the employee with ID 1 in the \"employees\" table:<br>\n",
    "\n",
    "    UPDATE employees SET salary = 55000.00 WHERE id = 1;\n",
    "    <br>\n",
    "* DELETE: This command is used to delete existing data from a table. For example, the following SQL command deletes the employee with ID 1 from the \"employees\" table:<br>\n",
    "\n",
    "    DELETE FROM employees WHERE id = 1;"
   ]
  },
  {
   "cell_type": "markdown",
   "id": "e1109fe1",
   "metadata": {},
   "source": [
    "#### Q4. What is DQL? Explain SELECT with an example."
   ]
  },
  {
   "cell_type": "markdown",
   "id": "ca746ad5",
   "metadata": {},
   "source": [
    "DQL stands for Data Query Language, which is a sub-language used in SQL to retrieve data from a database. The most commonly used DQL command is SELECT, which is used to retrieve data from one or more tables in a database.\n",
    "\n",
    "Here is an example of using the SELECT command to retrieve data from a table named \"employees\":\n",
    "\n",
    "<br>\n",
    "    SELECT id, name, age, salary\n",
    "    FROM employees\n",
    "    WHERE age > 30;\n",
    "    <br>\n",
    "    \n",
    "This command will retrieve the \"id\", \"name\", \"age\", and \"salary\" columns from the \"employees\" table where the \"age\" column is greater than 30. The data is returned in a result set, which can be further processed or displayed as needed."
   ]
  },
  {
   "cell_type": "markdown",
   "id": "21e9b774",
   "metadata": {},
   "source": [
    "#### Q5. Explain Primary Key and Foreign Key."
   ]
  },
  {
   "cell_type": "markdown",
   "id": "ef3fdd95",
   "metadata": {},
   "source": [
    "A primary key is a column or a set of columns that uniquely identifies each row in a table. It is used to ensure that each row in the table is unique and can be used as a reference to other tables. A primary key can be a single column or a combination of columns, and it cannot contain null values. Common examples of primary keys include employee IDs, customer IDs, and order IDs.\n",
    "\n",
    "A foreign key, on the other hand, is a column or a set of columns in one table that refers to the primary key of another table. It is used to establish a relationship between the two tables and enforce referential integrity. A foreign key can be a single column or a combination of columns, and it can contain null values if the relationship is optional. Common examples of foreign keys include order IDs in a table of order details, or customer IDs in a table of customer orders."
   ]
  },
  {
   "cell_type": "markdown",
   "id": "4f981985",
   "metadata": {},
   "source": [
    "#### Q6. Write a python code to connect MySQL to python. Explain the cursor() and execute() method."
   ]
  },
  {
   "cell_type": "code",
   "execution_count": null,
   "id": "e585228c",
   "metadata": {},
   "outputs": [],
   "source": [
    "import mysql.connector\n",
    "\n",
    "mydb = mysql.connector.connect(\n",
    "  host=\"<HOST ID>\",\n",
    "  user=\"<USERNAME>\",\n",
    "  password=\"<PASSWORD>\"\n",
    ")\n",
    "mycursor = mydb.cursor()\n",
    "mycursor.execute(\"<SQL QUERY>\")"
   ]
  },
  {
   "cell_type": "markdown",
   "id": "806341bd",
   "metadata": {},
   "source": [
    "The cursor() method creates a cursor object, which is used to execute SQL statements and fetch results. The cursor object acts as a handle for the SQL query, allowing you to execute the query and obtain the results. The cursor() method is called on the database connection object to create a cursor.\n",
    "\n",
    "The execute() method is used to execute an SQL statement or query. It takes an SQL statement as a parameter and returns a cursor object. The cursor object can then be used to fetch the results of the query. The execute() method is called on the cursor object, which was created using the cursor() method."
   ]
  },
  {
   "cell_type": "markdown",
   "id": "76266375",
   "metadata": {},
   "source": [
    "#### Q7. Give the order of execution of SQL clauses in an SQL query."
   ]
  },
  {
   "cell_type": "markdown",
   "id": "dba42607",
   "metadata": {},
   "source": [
    "The order of execution of SQL clauses in an SQL query is as follows:\n",
    "\n",
    "* FROM: This clause specifies the table or tables from which to retrieve the data.\n",
    "\n",
    "* JOIN: This clause is used to combine rows from two or more tables based on a related column between them.\n",
    "\n",
    "* WHERE: This clause is used to filter the data based on a specific condition.\n",
    "\n",
    "* GROUP BY: This clause is used to group the data based on one or more columns.\n",
    "\n",
    "* HAVING: This clause is used to filter the data based on a specific condition after the data has been grouped.\n",
    "\n",
    "* SELECT: This clause is used to select the columns to retrieve from the table(s).\n",
    " \n",
    "* DISTINCT: This clause is used to remove duplicate rows from the result set.\n",
    "\n",
    "* ORDER BY: This clause is used to sort the data in ascending or descending order.\n",
    "\n",
    "* LIMIT: This clause is used to limit the number of rows returned by the query."
   ]
  }
 ],
 "metadata": {
  "kernelspec": {
   "display_name": "Python 3 (ipykernel)",
   "language": "python",
   "name": "python3"
  },
  "language_info": {
   "codemirror_mode": {
    "name": "ipython",
    "version": 3
   },
   "file_extension": ".py",
   "mimetype": "text/x-python",
   "name": "python",
   "nbconvert_exporter": "python",
   "pygments_lexer": "ipython3",
   "version": "3.9.16"
  }
 },
 "nbformat": 4,
 "nbformat_minor": 5
}
