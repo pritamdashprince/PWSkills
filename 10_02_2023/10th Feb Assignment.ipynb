{
 "cells": [
  {
   "cell_type": "markdown",
   "id": "119f3036",
   "metadata": {},
   "source": [
    "#### Q1. Which function is used to open a file? What are the different modes of opening a file? Explain each mode of file opening."
   ]
  },
  {
   "cell_type": "markdown",
   "id": "10d7ea56",
   "metadata": {},
   "source": [
    "In Python, the open() function is used to open a file. It takes two arguments: the filename (which can include the path to the file) and the mode in which to open the file.\n",
    "\n",
    "There are several modes in which a file can be opened:\n",
    "\n",
    "'r' (read): This mode is used for reading the contents of a file. The file must exist, and an error will be raised if the file does not exist.\n",
    "\n",
    "'w' (write): This mode is used for writing to a file. If the file already exists, its contents will be truncated (i.e., deleted). If the file does not exist, a new file will be created.\n",
    "\n",
    "'a' (append): This mode is used for appending data to the end of a file. If the file does not exist, a new file will be created.\n",
    "\n",
    "'x' (exclusive creation): This mode is used for creating a new file. An error will be raised if the file already exists.\n",
    "\n",
    "'b' (binary mode): This mode is used for reading or writing binary data. It should be used in conjunction with one of the other modes (e.g., 'rb' for reading binary data).\n",
    "\n",
    "'t' (text mode): This mode is used for reading or writing text data. It is the default mode if no mode is specified. It should be used in conjunction with one of the other modes (e.g., 'wt' for writing text data)."
   ]
  },
  {
   "cell_type": "markdown",
   "id": "e8ecc1ed",
   "metadata": {},
   "source": [
    "#### Q2. Why close() function is used? Why is it important to close a file?"
   ]
  },
  {
   "cell_type": "markdown",
   "id": "5f504353",
   "metadata": {},
   "source": [
    "The close() function is used to close a file that was previously opened using the open() function. It is important to close a file after you are done with it because it releases the system resources that were used to keep the file open. Failing to close a file can cause a number of problems, such as:\n",
    "<ol>\n",
    "<li>Resource leaks: If you keep opening files without closing them, you may eventually run out of system resources. This can cause your program to crash or behave unpredictably.\n",
    "\n",
    "<li>Data corruption: If you do not close a file after writing to it, the data you wrote may not be saved correctly. In some cases, the data may be lost entirely.\n",
    "\n",
    "<li>File locking: If you keep a file open, other processes may not be able to access it. This can cause conflicts and may prevent other programs from functioning properly.\n",
    "\n",
    "<li>Performance degradation: Keeping a file open can cause your program to use more system resources than it needs to. This can slow down your program and other programs running on the same system."
   ]
  },
  {
   "cell_type": "markdown",
   "id": "ccbb767f",
   "metadata": {},
   "source": [
    "#### Q3. Write a python program to create a text file. Write ‘I want to become a Data Scientist’ in that file. Then close the file. Open this file and read the content of the file."
   ]
  },
  {
   "cell_type": "code",
   "execution_count": 1,
   "id": "8af27fe1",
   "metadata": {},
   "outputs": [],
   "source": [
    "file = open(\"text.txt\", 'w')"
   ]
  },
  {
   "cell_type": "code",
   "execution_count": 2,
   "id": "1e0b4948",
   "metadata": {},
   "outputs": [
    {
     "data": {
      "text/plain": [
       "33"
      ]
     },
     "execution_count": 2,
     "metadata": {},
     "output_type": "execute_result"
    }
   ],
   "source": [
    "file.write(\"I want to become a Data Scientist\")"
   ]
  },
  {
   "cell_type": "code",
   "execution_count": 3,
   "id": "de14341f",
   "metadata": {},
   "outputs": [],
   "source": [
    "file.close()"
   ]
  },
  {
   "cell_type": "code",
   "execution_count": 4,
   "id": "1da1371f",
   "metadata": {},
   "outputs": [],
   "source": [
    "file = open(\"text.txt\",'r')"
   ]
  },
  {
   "cell_type": "code",
   "execution_count": 5,
   "id": "4a7f8dba",
   "metadata": {},
   "outputs": [
    {
     "data": {
      "text/plain": [
       "'I want to become a Data Scientist'"
      ]
     },
     "execution_count": 5,
     "metadata": {},
     "output_type": "execute_result"
    }
   ],
   "source": [
    "file.read()"
   ]
  },
  {
   "cell_type": "code",
   "execution_count": 6,
   "id": "d4219ab0",
   "metadata": {},
   "outputs": [],
   "source": [
    "file.close()"
   ]
  },
  {
   "cell_type": "markdown",
   "id": "87a3b310",
   "metadata": {},
   "source": [
    "#### Q4. Explain the following with python code: read(), readline() and readlines()."
   ]
  },
  {
   "cell_type": "code",
   "execution_count": 7,
   "id": "e862a22e",
   "metadata": {},
   "outputs": [],
   "source": [
    "file = open(\"Examplefor4.txt\", 'w')"
   ]
  },
  {
   "cell_type": "code",
   "execution_count": 8,
   "id": "daaf2d88",
   "metadata": {},
   "outputs": [
    {
     "data": {
      "text/plain": [
       "35"
      ]
     },
     "execution_count": 8,
     "metadata": {},
     "output_type": "execute_result"
    }
   ],
   "source": [
    "file.write(\"I want to become a Data Scientist.\\n\")"
   ]
  },
  {
   "cell_type": "code",
   "execution_count": 9,
   "id": "1e9d5078",
   "metadata": {},
   "outputs": [
    {
     "data": {
      "text/plain": [
       "23"
      ]
     },
     "execution_count": 9,
     "metadata": {},
     "output_type": "execute_result"
    }
   ],
   "source": [
    "file.write(\"I am Prince Pritam Dash\")"
   ]
  },
  {
   "cell_type": "code",
   "execution_count": 10,
   "id": "dcd0c8cd",
   "metadata": {},
   "outputs": [],
   "source": [
    "file.close()"
   ]
  },
  {
   "cell_type": "markdown",
   "id": "de3dae4c",
   "metadata": {},
   "source": [
    "* read(): This method is used to read the entire contents of a file as a single string. You can specify the number of bytes you want to read, or you can leave it blank to read the entire file. Here's an example:"
   ]
  },
  {
   "cell_type": "code",
   "execution_count": 11,
   "id": "63818bba",
   "metadata": {},
   "outputs": [],
   "source": [
    "file = open(\"Examplefor4.txt\", 'r')"
   ]
  },
  {
   "cell_type": "code",
   "execution_count": 12,
   "id": "c8a02fc6",
   "metadata": {},
   "outputs": [],
   "source": [
    "content = file.read()"
   ]
  },
  {
   "cell_type": "code",
   "execution_count": 13,
   "id": "a7f2b0bb",
   "metadata": {},
   "outputs": [],
   "source": [
    "file.close()"
   ]
  },
  {
   "cell_type": "code",
   "execution_count": 14,
   "id": "c45033b0",
   "metadata": {},
   "outputs": [
    {
     "name": "stdout",
     "output_type": "stream",
     "text": [
      "I want to become a Data Scientist.\n",
      "I am Prince Pritam Dash\n"
     ]
    }
   ],
   "source": [
    "print(content)"
   ]
  },
  {
   "cell_type": "markdown",
   "id": "d06768f1",
   "metadata": {},
   "source": [
    "* readline(): This method is used to read a single line from a file. Each time you call readline(), it will return the next line in the file. Here's an example:"
   ]
  },
  {
   "cell_type": "code",
   "execution_count": 15,
   "id": "e5470e64",
   "metadata": {},
   "outputs": [],
   "source": [
    "file = open(\"Examplefor4.txt\",'r')"
   ]
  },
  {
   "cell_type": "code",
   "execution_count": 16,
   "id": "c0e3bc46",
   "metadata": {},
   "outputs": [],
   "source": [
    "line1=file.readline()"
   ]
  },
  {
   "cell_type": "code",
   "execution_count": 17,
   "id": "cd16c246",
   "metadata": {},
   "outputs": [],
   "source": [
    "line2=file.readline()"
   ]
  },
  {
   "cell_type": "code",
   "execution_count": 18,
   "id": "d5d28983",
   "metadata": {},
   "outputs": [],
   "source": [
    "file.close()"
   ]
  },
  {
   "cell_type": "code",
   "execution_count": 19,
   "id": "a61f0fc8",
   "metadata": {},
   "outputs": [
    {
     "name": "stdout",
     "output_type": "stream",
     "text": [
      "I want to become a Data Scientist.\n",
      "\n"
     ]
    }
   ],
   "source": [
    "print(line1)"
   ]
  },
  {
   "cell_type": "code",
   "execution_count": 20,
   "id": "5a42f091",
   "metadata": {},
   "outputs": [
    {
     "name": "stdout",
     "output_type": "stream",
     "text": [
      "I am Prince Pritam Dash\n"
     ]
    }
   ],
   "source": [
    "print(line2)"
   ]
  },
  {
   "cell_type": "markdown",
   "id": "d95e7a20",
   "metadata": {},
   "source": [
    "* readlines(): This method is used to read all the lines of a file and return them as a list. Each element of the list corresponds to a single line in the file. Here's an example:"
   ]
  },
  {
   "cell_type": "code",
   "execution_count": 21,
   "id": "ddb0923b",
   "metadata": {},
   "outputs": [],
   "source": [
    "file = open(\"Examplefor4.txt\",'r')"
   ]
  },
  {
   "cell_type": "code",
   "execution_count": 22,
   "id": "00175187",
   "metadata": {},
   "outputs": [],
   "source": [
    "li=file.readlines()"
   ]
  },
  {
   "cell_type": "code",
   "execution_count": 23,
   "id": "2a90d59c",
   "metadata": {},
   "outputs": [],
   "source": [
    "file.close()"
   ]
  },
  {
   "cell_type": "code",
   "execution_count": 24,
   "id": "e52b0370",
   "metadata": {},
   "outputs": [
    {
     "name": "stdout",
     "output_type": "stream",
     "text": [
      "['I want to become a Data Scientist.\\n', 'I am Prince Pritam Dash']\n",
      "<class 'list'>\n"
     ]
    }
   ],
   "source": [
    "print(li, type(li),sep='\\n')"
   ]
  },
  {
   "cell_type": "markdown",
   "id": "1cafa3eb",
   "metadata": {},
   "source": [
    "#### Q5. Explain why with statement is used with open(). What is the advantage of using with statement and open() together?"
   ]
  },
  {
   "cell_type": "markdown",
   "id": "ca7c0f5e",
   "metadata": {},
   "source": [
    "In Python, the with statement is used with open() to automatically manage the file resources. The with statement provides a convenient way to ensure that a file is closed when the block containing the with statement is exited.\n",
    "\n",
    "The advantage of using with statement with open() is that it ensures that the file is properly closed after it has been used, regardless of whether an exception is raised or not. This means that you do not need to worry about closing the file manually.\n",
    "\n",
    "The main advantage of using with statement with open() is that it provides a convenient and safe way to open and close files, making your code more readable and less prone to errors."
   ]
  },
  {
   "cell_type": "markdown",
   "id": "62fa7115",
   "metadata": {},
   "source": [
    "#### Q6. Explain the write() and writelines() functions. Give a suitable example."
   ]
  },
  {
   "cell_type": "markdown",
   "id": "89173ead",
   "metadata": {},
   "source": [
    "In Python, the write() and writelines() functions are used to write data to a file. Here's an explanation of each function and an example of how they can be used:"
   ]
  },
  {
   "cell_type": "markdown",
   "id": "449340ea",
   "metadata": {},
   "source": [
    "* write(): This function is used to write a string to a file. It takes a single argument, which is the string to be written to the file. If the file does not exist, it will be created. If it already exists, the data will be overwritten. Here's an example:"
   ]
  },
  {
   "cell_type": "code",
   "execution_count": 25,
   "id": "bc371d0d",
   "metadata": {},
   "outputs": [],
   "source": [
    "file = open(\"exfor6_1.txt\", 'w')"
   ]
  },
  {
   "cell_type": "code",
   "execution_count": 26,
   "id": "0bf544da",
   "metadata": {},
   "outputs": [
    {
     "data": {
      "text/plain": [
       "12"
      ]
     },
     "execution_count": 26,
     "metadata": {},
     "output_type": "execute_result"
    }
   ],
   "source": [
    "file.write(\"Hello Prince\")"
   ]
  },
  {
   "cell_type": "code",
   "execution_count": 27,
   "id": "cd0de55a",
   "metadata": {},
   "outputs": [],
   "source": [
    "file.close()"
   ]
  },
  {
   "cell_type": "markdown",
   "id": "3fe74711",
   "metadata": {},
   "source": [
    "* writelines(): This function is used to write a list of strings to a file. Each string in the list will be written to a new line in the file. Here's an example:"
   ]
  },
  {
   "cell_type": "code",
   "execution_count": 28,
   "id": "1186478b",
   "metadata": {},
   "outputs": [
    {
     "data": {
      "text/plain": [
       "['I want to become a Data Scientist.\\n', 'I am Prince Pritam Dash']"
      ]
     },
     "execution_count": 28,
     "metadata": {},
     "output_type": "execute_result"
    }
   ],
   "source": [
    "li"
   ]
  },
  {
   "cell_type": "code",
   "execution_count": 29,
   "id": "9444416b",
   "metadata": {},
   "outputs": [],
   "source": [
    "file = open(\"exfor6_2.txt\",'w')"
   ]
  },
  {
   "cell_type": "code",
   "execution_count": 30,
   "id": "4063e583",
   "metadata": {},
   "outputs": [],
   "source": [
    "file.writelines(li)"
   ]
  },
  {
   "cell_type": "code",
   "execution_count": 31,
   "id": "3bc3694d",
   "metadata": {},
   "outputs": [],
   "source": [
    "file.close()"
   ]
  }
 ],
 "metadata": {
  "kernelspec": {
   "display_name": "Python 3 (ipykernel)",
   "language": "python",
   "name": "python3"
  },
  "language_info": {
   "codemirror_mode": {
    "name": "ipython",
    "version": 3
   },
   "file_extension": ".py",
   "mimetype": "text/x-python",
   "name": "python",
   "nbconvert_exporter": "python",
   "pygments_lexer": "ipython3",
   "version": "3.9.13"
  }
 },
 "nbformat": 4,
 "nbformat_minor": 5
}
