{
 "cells": [
  {
   "cell_type": "markdown",
   "id": "4f5ab527",
   "metadata": {},
   "source": [
    "#### Q1. You are writing code for a company. The requirement of the company is that you create a python function that will check whether the password entered by the user is correct or not. The function should take the password as input and return the string “Valid Password” if the entered password follows the below-given password guidelines else it should return “Invalid Password”.\n",
    "#### Note: \n",
    "<br>1. The Password should contain at least two uppercase letters and at least two lowercase letters.\n",
    "<br> 2. The Password should contain at least a number and three special characters.\n",
    "<br>3. The length of the password should be 10 characters long."
   ]
  },
  {
   "cell_type": "code",
   "execution_count": 1,
   "id": "0a09c190",
   "metadata": {},
   "outputs": [],
   "source": [
    "def isValid(password):\n",
    "    uppercase=0\n",
    "    lowercase=0\n",
    "    number=0\n",
    "    sp_char=0\n",
    "    for i in password:\n",
    "        if ord('A')<=ord(i)<=ord('Z'):\n",
    "            uppercase+=1\n",
    "        elif ord('a')<=ord(i)<=ord('z'):\n",
    "            lowercase+=1\n",
    "        elif ord('0')<=ord(i)<=ord('9'):\n",
    "            number+=1\n",
    "        else:\n",
    "            sp_char+=1\n",
    "    if uppercase>=2 and lowercase>=2 and number>=1 and sp_char>=3 and len(password)==10:\n",
    "        return \"Valid Password\"\n",
    "    else:\n",
    "        return \"Invalid Password\""
   ]
  },
  {
   "cell_type": "code",
   "execution_count": 2,
   "id": "644889d8",
   "metadata": {},
   "outputs": [
    {
     "data": {
      "text/plain": [
       "'Valid Password'"
      ]
     },
     "execution_count": 2,
     "metadata": {},
     "output_type": "execute_result"
    }
   ],
   "source": [
    "isValid(\"prIN1,.<85\")"
   ]
  },
  {
   "cell_type": "code",
   "execution_count": 3,
   "id": "5207e5bb",
   "metadata": {},
   "outputs": [
    {
     "data": {
      "text/plain": [
       "'Invalid Password'"
      ]
     },
     "execution_count": 3,
     "metadata": {},
     "output_type": "execute_result"
    }
   ],
   "source": [
    "isValid(\"PriN1,.25\")"
   ]
  },
  {
   "cell_type": "markdown",
   "id": "ef5790fd",
   "metadata": {},
   "source": [
    "#### Q2. Solve the below-given questions using at least one of the following:\n",
    "1. Lambda function\n",
    "2. Filter function\n",
    "3. Map function\n",
    "4. List Comprehension"
   ]
  },
  {
   "cell_type": "markdown",
   "id": "962d08a7",
   "metadata": {},
   "source": [
    "* Check if the string starts with a particular letter."
   ]
  },
  {
   "cell_type": "code",
   "execution_count": 4,
   "id": "ad6ecec2",
   "metadata": {},
   "outputs": [],
   "source": [
    "a=lambda string, char: string[0]==char"
   ]
  },
  {
   "cell_type": "code",
   "execution_count": 5,
   "id": "27ae1186",
   "metadata": {},
   "outputs": [
    {
     "data": {
      "text/plain": [
       "True"
      ]
     },
     "execution_count": 5,
     "metadata": {},
     "output_type": "execute_result"
    }
   ],
   "source": [
    "a(\"Prince\",\"P\")"
   ]
  },
  {
   "cell_type": "code",
   "execution_count": 6,
   "id": "851c47bf",
   "metadata": {},
   "outputs": [
    {
     "data": {
      "text/plain": [
       "False"
      ]
     },
     "execution_count": 6,
     "metadata": {},
     "output_type": "execute_result"
    }
   ],
   "source": [
    "a(\"Prince\",\"T\")"
   ]
  },
  {
   "cell_type": "markdown",
   "id": "c66ca8d8",
   "metadata": {},
   "source": [
    "* Check if the string is numeric."
   ]
  },
  {
   "cell_type": "code",
   "execution_count": 7,
   "id": "c91a343f",
   "metadata": {},
   "outputs": [],
   "source": [
    "b=lambda string: string.isnumeric()"
   ]
  },
  {
   "cell_type": "code",
   "execution_count": 8,
   "id": "c537c1de",
   "metadata": {},
   "outputs": [
    {
     "data": {
      "text/plain": [
       "True"
      ]
     },
     "execution_count": 8,
     "metadata": {},
     "output_type": "execute_result"
    }
   ],
   "source": [
    "b(\"123\")"
   ]
  },
  {
   "cell_type": "code",
   "execution_count": 9,
   "id": "a9ac4501",
   "metadata": {},
   "outputs": [
    {
     "data": {
      "text/plain": [
       "False"
      ]
     },
     "execution_count": 9,
     "metadata": {},
     "output_type": "execute_result"
    }
   ],
   "source": [
    "b(\"12a\")"
   ]
  },
  {
   "cell_type": "markdown",
   "id": "c1fbaf44",
   "metadata": {},
   "source": [
    "* Sort a list of tuples having fruit names and their quantity. [(\"mango\",99),(\"orange\",80), (\"grapes\", 1000)]"
   ]
  },
  {
   "cell_type": "code",
   "execution_count": 10,
   "id": "13903c86",
   "metadata": {},
   "outputs": [],
   "source": [
    "li = [(\"mango\",99),(\"orange\",80), (\"grapes\", 1000)]"
   ]
  },
  {
   "cell_type": "code",
   "execution_count": 11,
   "id": "d89adb86",
   "metadata": {},
   "outputs": [],
   "source": [
    "sort_li=sorted(li, key=lambda x:x[1])"
   ]
  },
  {
   "cell_type": "code",
   "execution_count": 12,
   "id": "c762063b",
   "metadata": {},
   "outputs": [
    {
     "data": {
      "text/plain": [
       "[('orange', 80), ('mango', 99), ('grapes', 1000)]"
      ]
     },
     "execution_count": 12,
     "metadata": {},
     "output_type": "execute_result"
    }
   ],
   "source": [
    "sort_li"
   ]
  },
  {
   "cell_type": "markdown",
   "id": "0331a3a2",
   "metadata": {},
   "source": [
    "* Find the squares of numbers from 1 to 10."
   ]
  },
  {
   "cell_type": "code",
   "execution_count": 13,
   "id": "fd3cbcb8",
   "metadata": {},
   "outputs": [],
   "source": [
    "A_li = [i for i in range(1,11)]"
   ]
  },
  {
   "cell_type": "code",
   "execution_count": 14,
   "id": "21e7449c",
   "metadata": {},
   "outputs": [
    {
     "data": {
      "text/plain": [
       "[1, 4, 9, 16, 25, 36, 49, 64, 81, 100]"
      ]
     },
     "execution_count": 14,
     "metadata": {},
     "output_type": "execute_result"
    }
   ],
   "source": [
    "list(map(lambda i:i*i, A_li))"
   ]
  },
  {
   "cell_type": "markdown",
   "id": "7fc380cb",
   "metadata": {},
   "source": [
    "* Find the cube root of numbers from 1 to 10."
   ]
  },
  {
   "cell_type": "code",
   "execution_count": 15,
   "id": "81b864fb",
   "metadata": {},
   "outputs": [
    {
     "data": {
      "text/plain": [
       "[1.0,\n",
       " 1.2599210498948732,\n",
       " 1.4422495703074083,\n",
       " 1.5874010519681994,\n",
       " 1.7099759466766968,\n",
       " 1.8171205928321397,\n",
       " 1.912931182772389,\n",
       " 2.0,\n",
       " 2.080083823051904,\n",
       " 2.154434690031884]"
      ]
     },
     "execution_count": 15,
     "metadata": {},
     "output_type": "execute_result"
    }
   ],
   "source": [
    "[i**(1/3) for i in range(1,11)]"
   ]
  },
  {
   "cell_type": "markdown",
   "id": "08f61666",
   "metadata": {},
   "source": [
    "* Check if a given number is even."
   ]
  },
  {
   "cell_type": "code",
   "execution_count": 16,
   "id": "eb6bd65a",
   "metadata": {},
   "outputs": [],
   "source": [
    "c=lambda x:x%2==0"
   ]
  },
  {
   "cell_type": "code",
   "execution_count": 17,
   "id": "7fddf88f",
   "metadata": {},
   "outputs": [
    {
     "data": {
      "text/plain": [
       "True"
      ]
     },
     "execution_count": 17,
     "metadata": {},
     "output_type": "execute_result"
    }
   ],
   "source": [
    "c(2)"
   ]
  },
  {
   "cell_type": "code",
   "execution_count": 18,
   "id": "81a57827",
   "metadata": {},
   "outputs": [
    {
     "data": {
      "text/plain": [
       "False"
      ]
     },
     "execution_count": 18,
     "metadata": {},
     "output_type": "execute_result"
    }
   ],
   "source": [
    "c(1)"
   ]
  },
  {
   "cell_type": "markdown",
   "id": "436a0ad8",
   "metadata": {},
   "source": [
    "* Filter odd numbers from the given list [1,2,3,4,5,6,7,8,9,10]"
   ]
  },
  {
   "cell_type": "code",
   "execution_count": 19,
   "id": "5f676ab3",
   "metadata": {},
   "outputs": [],
   "source": [
    "List =  [1,2,3,4,5,6,7,8,9,10]"
   ]
  },
  {
   "cell_type": "code",
   "execution_count": 20,
   "id": "6fbde6bd",
   "metadata": {},
   "outputs": [
    {
     "data": {
      "text/plain": [
       "[1, 3, 5, 7, 9]"
      ]
     },
     "execution_count": 20,
     "metadata": {},
     "output_type": "execute_result"
    }
   ],
   "source": [
    "list(filter(lambda x:x&1, List))"
   ]
  },
  {
   "cell_type": "markdown",
   "id": "c51d7e88",
   "metadata": {},
   "source": [
    "* Sort a list of integers into positive and negative integers lists [1,2,3,4,5,6,-1,-2,-3,-4,-5,0]"
   ]
  },
  {
   "cell_type": "code",
   "execution_count": 21,
   "id": "51b77480",
   "metadata": {},
   "outputs": [],
   "source": [
    "li1 = [1,2,3,4,5,6,-1,-2,-3,-4,-5,0]"
   ]
  },
  {
   "cell_type": "code",
   "execution_count": 22,
   "id": "8c3cedcd",
   "metadata": {},
   "outputs": [],
   "source": [
    "positive = [i for i in li1 if i>0]"
   ]
  },
  {
   "cell_type": "code",
   "execution_count": 23,
   "id": "86bdb1bb",
   "metadata": {},
   "outputs": [],
   "source": [
    "negative = [i for i in li1 if i<0]"
   ]
  },
  {
   "cell_type": "code",
   "execution_count": 24,
   "id": "6b4e600c",
   "metadata": {},
   "outputs": [
    {
     "name": "stdout",
     "output_type": "stream",
     "text": [
      "[1, 2, 3, 4, 5, 6]\n",
      "[-1, -2, -3, -4, -5]\n"
     ]
    }
   ],
   "source": [
    "print(positive, negative, sep='\\n')"
   ]
  }
 ],
 "metadata": {
  "kernelspec": {
   "display_name": "Python 3 (ipykernel)",
   "language": "python",
   "name": "python3"
  },
  "language_info": {
   "codemirror_mode": {
    "name": "ipython",
    "version": 3
   },
   "file_extension": ".py",
   "mimetype": "text/x-python",
   "name": "python",
   "nbconvert_exporter": "python",
   "pygments_lexer": "ipython3",
   "version": "3.9.13"
  }
 },
 "nbformat": 4,
 "nbformat_minor": 5
}
