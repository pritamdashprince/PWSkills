{
 "cells": [
  {
   "cell_type": "markdown",
   "id": "1d468d73",
   "metadata": {},
   "source": [
    "#### Q1. What is an Exception in python? Write the difference between Exceptions and Syntax errors."
   ]
  },
  {
   "cell_type": "markdown",
   "id": "4bb6efe5",
   "metadata": {},
   "source": [
    "In Python, an exception is an error that occurs during the execution of a program. It is a signal that something unexpected or problematic has happened, such as a division by zero or an attempt to access a variable that hasn't been defined. When an exception occurs, Python stops executing the program and raises an exception object that contains information about the error.\n",
    "\n",
    "Syntax errors, on the other hand, are errors that occur when the Python interpreter encounters code that doesn't follow the language's syntax rules. Syntax errors prevent the code from running at all and are detected by the interpreter before the program starts running.\n",
    "\n",
    "Here are some key differences between exceptions and syntax errors in Python:\n",
    "\n",
    "* Cause: Exceptions are caused by errors that occur during program execution, while syntax errors are caused by invalid code that violates Python's syntax rules.\n",
    "\n",
    "* Detection: Exceptions are detected and raised at runtime, while syntax errors are detected by the interpreter before the program starts running.\n",
    "\n",
    "* Handling: Exceptions can be caught and handled with Python's try-except blocks, while syntax errors cannot be caught and must be fixed by correcting the code.\n",
    "\n",
    "* Impact: Exceptions typically result in the program terminating, while syntax errors prevent the program from running at all."
   ]
  },
  {
   "cell_type": "markdown",
   "id": "4483fbcc",
   "metadata": {},
   "source": [
    "#### Q2. What happens when an exception is not handled? Explain with an example."
   ]
  },
  {
   "cell_type": "markdown",
   "id": "781e0277",
   "metadata": {},
   "source": [
    "When an exception is not handled, it causes the program to terminate and display an error message that indicates the type of exception that occurred and the line of code where the exception was raised."
   ]
  },
  {
   "cell_type": "code",
   "execution_count": 1,
   "id": "dbf3477e",
   "metadata": {},
   "outputs": [
    {
     "name": "stdout",
     "output_type": "stream",
     "text": [
      "Before Error!\n",
      "\n"
     ]
    },
    {
     "ename": "ZeroDivisionError",
     "evalue": "division by zero",
     "output_type": "error",
     "traceback": [
      "\u001b[1;31m---------------------------------------------------------------------------\u001b[0m",
      "\u001b[1;31mZeroDivisionError\u001b[0m                         Traceback (most recent call last)",
      "\u001b[1;32m~\\AppData\\Local\\Temp\\ipykernel_14092\\2928022296.py\u001b[0m in \u001b[0;36m<module>\u001b[1;34m\u001b[0m\n\u001b[0;32m      2\u001b[0m \u001b[0mb\u001b[0m \u001b[1;33m=\u001b[0m \u001b[1;36m0\u001b[0m\u001b[1;33m\u001b[0m\u001b[1;33m\u001b[0m\u001b[0m\n\u001b[0;32m      3\u001b[0m \u001b[0mprint\u001b[0m\u001b[1;33m(\u001b[0m\u001b[1;34m\"Before Error!\\n\"\u001b[0m\u001b[1;33m)\u001b[0m\u001b[1;33m\u001b[0m\u001b[1;33m\u001b[0m\u001b[0m\n\u001b[1;32m----> 4\u001b[1;33m \u001b[0mprint\u001b[0m\u001b[1;33m(\u001b[0m\u001b[0ma\u001b[0m\u001b[1;33m/\u001b[0m\u001b[0mb\u001b[0m\u001b[1;33m)\u001b[0m\u001b[1;33m\u001b[0m\u001b[1;33m\u001b[0m\u001b[0m\n\u001b[0m\u001b[0;32m      5\u001b[0m \u001b[0mprint\u001b[0m\u001b[1;33m(\u001b[0m\u001b[1;34m\"After Error\"\u001b[0m\u001b[1;33m)\u001b[0m\u001b[1;33m\u001b[0m\u001b[1;33m\u001b[0m\u001b[0m\n",
      "\u001b[1;31mZeroDivisionError\u001b[0m: division by zero"
     ]
    }
   ],
   "source": [
    "a = 5\n",
    "b = 0\n",
    "print(\"Before Error!\\n\")\n",
    "print(a/b)\n",
    "print(\"After Error\")"
   ]
  },
  {
   "cell_type": "markdown",
   "id": "b73b2dd2",
   "metadata": {},
   "source": [
    "This error message indicates that a ZeroDivisionError exception occurred on the line where the division was attempted. Without exception handling code, the program will terminate at this point and further lines wont be executed as can be seen in above example."
   ]
  },
  {
   "cell_type": "markdown",
   "id": "6baf5a9f",
   "metadata": {},
   "source": [
    "#### Q3. Which Python statements are used to catch and handle exceptions? Explain with an example."
   ]
  },
  {
   "cell_type": "markdown",
   "id": "a5f5e7da",
   "metadata": {},
   "source": [
    "In Python, the try and except statements are used to catch and handle exceptions. The try statement is used to define a block of code that may raise an exception, while the except statement defines a block of code that is executed if an exception is raised in the try block.\n",
    "\n",
    "Here's an example that demonstrates the use of try and except to handle an exception:"
   ]
  },
  {
   "cell_type": "code",
   "execution_count": 2,
   "id": "d8e96592",
   "metadata": {},
   "outputs": [
    {
     "name": "stdout",
     "output_type": "stream",
     "text": [
      "Following error occured: division by zero\n"
     ]
    }
   ],
   "source": [
    "a = 5\n",
    "b = 0\n",
    "try:\n",
    "    print(a/b)\n",
    "except Exception as e:\n",
    "    print(f\"Following error occured: {e}\")"
   ]
  },
  {
   "cell_type": "markdown",
   "id": "cba39d2e",
   "metadata": {},
   "source": [
    "In this example, the try block attempts to divide the value of numerator by denominator. Since denominator is set to zero, this raises a ZeroDivisionError exception. The except block then executes, printing an error message that indicates the exception that occurred."
   ]
  },
  {
   "cell_type": "markdown",
   "id": "9f176078",
   "metadata": {},
   "source": [
    "#### Q4. Explain with an example:"
   ]
  },
  {
   "cell_type": "markdown",
   "id": "3b55aeb1",
   "metadata": {},
   "source": [
    "#### <li> try and else"
   ]
  },
  {
   "cell_type": "code",
   "execution_count": 3,
   "id": "dcadc968",
   "metadata": {},
   "outputs": [],
   "source": [
    "def fun(a,b):\n",
    "    try:\n",
    "        a=a/b\n",
    "    except Exception as e:\n",
    "        print(e)\n",
    "    else:\n",
    "        print(a)"
   ]
  },
  {
   "cell_type": "code",
   "execution_count": 4,
   "id": "c406a634",
   "metadata": {},
   "outputs": [
    {
     "name": "stdout",
     "output_type": "stream",
     "text": [
      "0.8333333333333334\n"
     ]
    }
   ],
   "source": [
    "fun(5,6)"
   ]
  },
  {
   "cell_type": "code",
   "execution_count": 5,
   "id": "4c5b9a37",
   "metadata": {},
   "outputs": [
    {
     "name": "stdout",
     "output_type": "stream",
     "text": [
      "division by zero\n"
     ]
    }
   ],
   "source": [
    "fun(5,0)"
   ]
  },
  {
   "cell_type": "markdown",
   "id": "cf23081b",
   "metadata": {},
   "source": [
    "As can be seen in above example, else block execution depends on the successful execution of try block. If any error or exceptions are raised, then the except block is executed and else block is skipped."
   ]
  },
  {
   "cell_type": "markdown",
   "id": "fa780316",
   "metadata": {},
   "source": [
    "#### <li> finally"
   ]
  },
  {
   "cell_type": "code",
   "execution_count": 6,
   "id": "351a2fa8",
   "metadata": {},
   "outputs": [],
   "source": [
    "def fun2(a,b):\n",
    "    try:\n",
    "        a=a/b\n",
    "    except Exception as e:\n",
    "        print(e)\n",
    "    else:\n",
    "        print(a)\n",
    "    finally:\n",
    "        print(\"Fun2 is executed\")"
   ]
  },
  {
   "cell_type": "code",
   "execution_count": 7,
   "id": "5ce2a41e",
   "metadata": {},
   "outputs": [
    {
     "name": "stdout",
     "output_type": "stream",
     "text": [
      "0.8333333333333334\n",
      "Fun2 is executed\n"
     ]
    }
   ],
   "source": [
    "fun2(5,6)"
   ]
  },
  {
   "cell_type": "code",
   "execution_count": 8,
   "id": "b38cbbfa",
   "metadata": {},
   "outputs": [
    {
     "name": "stdout",
     "output_type": "stream",
     "text": [
      "division by zero\n",
      "Fun2 is executed\n"
     ]
    }
   ],
   "source": [
    "fun2(5,0)"
   ]
  },
  {
   "cell_type": "markdown",
   "id": "7a31aa3e",
   "metadata": {},
   "source": [
    "As can be seen in above examples, finally block always executes irrespective of the successful execution of try block. The finally block provides a way to execute code that is guaranteed to be run, whether or not an exception occurs."
   ]
  },
  {
   "cell_type": "markdown",
   "id": "ef5997e8",
   "metadata": {},
   "source": [
    "#### <li> raise"
   ]
  },
  {
   "cell_type": "code",
   "execution_count": 9,
   "id": "d9ba39a2",
   "metadata": {},
   "outputs": [],
   "source": [
    "class InsufficientError(Exception):\n",
    "    def __init__(self,amount):\n",
    "            self.message=f\"Insufficient Balance, Available Balance:-> ${amount}\"\n",
    "    def __str__(self):\n",
    "        return f\"InsufficientFundError: {self.message}\"\n",
    "\n",
    "def withdraw(p,amount):\n",
    "    if p>amount:\n",
    "        raise InsufficientError(amount)\n",
    "    else:\n",
    "        amount-=p\n",
    "        print(f\"{p} amount withdrawn, Available Balance:-> ${amount}\")\n",
    "        return amount"
   ]
  },
  {
   "cell_type": "code",
   "execution_count": 10,
   "id": "b7dc8543",
   "metadata": {},
   "outputs": [
    {
     "name": "stdout",
     "output_type": "stream",
     "text": [
      "Amount to withdraw:\t15000\n",
      "InsufficientFundError: Insufficient Balance, Available Balance:-> $10000\n"
     ]
    }
   ],
   "source": [
    "amount=10000\n",
    "try:\n",
    "    amt=int(input(\"Amount to withdraw:\\t\"))\n",
    "    amount=withdraw(amt,amount)\n",
    "    \n",
    "except Exception as e:\n",
    "    print(e)"
   ]
  },
  {
   "cell_type": "markdown",
   "id": "f66c20d5",
   "metadata": {},
   "source": [
    "By using raise in this way, the program can raise specific exceptions to signal error conditions that cannot be handled automatically. This can be useful for providing feedback to the user or signaling errors to calling functions."
   ]
  },
  {
   "cell_type": "markdown",
   "id": "7f60955d",
   "metadata": {},
   "source": [
    "#### Q5. What are Custom Exceptions in python? Why do we need Custom Exceptions? Explain with an example."
   ]
  },
  {
   "cell_type": "markdown",
   "id": "ab8a421a",
   "metadata": {},
   "source": [
    "In Python, custom exceptions are user-defined exception classes that can be raised like any built-in exception. They are useful for creating specific exception types that can be caught and handled separately from built-in exceptions.\n",
    "\n",
    "Custom exceptions are useful when we need to signal a specific error condition that is not covered by built-in exceptions. For example, in a program where we may define a custom \"InsufficientFundError\" exception to signal that the customer do not have sufficient balance to withdraw from his bank and hence cannot be processed.\n",
    "\n",
    "Here's an example of defining and using a custom exception in Python:"
   ]
  },
  {
   "cell_type": "code",
   "execution_count": 11,
   "id": "e28423cc",
   "metadata": {},
   "outputs": [],
   "source": [
    "# Already the class InsufficientError has been created for previous question which we will reuse in this to explain\n",
    "# the need of Custom Exceptions"
   ]
  },
  {
   "cell_type": "code",
   "execution_count": 12,
   "id": "ed7ec12d",
   "metadata": {},
   "outputs": [],
   "source": [
    "def bank():\n",
    "    amt = int(input(\"Enter amount to withdraw\\t\"))\n",
    "    try:\n",
    "        global initial_amount\n",
    "        initial_amount=withdraw(amt,initial_amount)    \n",
    "    except Exception as e:\n",
    "        print(e)"
   ]
  },
  {
   "cell_type": "code",
   "execution_count": 13,
   "id": "0ee1810c",
   "metadata": {},
   "outputs": [
    {
     "name": "stdout",
     "output_type": "stream",
     "text": [
      "Bank Balance 5000\n"
     ]
    }
   ],
   "source": [
    "initial_amount = 5000\n",
    "print(f\"Bank Balance {initial_amount}\")"
   ]
  },
  {
   "cell_type": "code",
   "execution_count": 14,
   "id": "72f100e9",
   "metadata": {},
   "outputs": [
    {
     "name": "stdout",
     "output_type": "stream",
     "text": [
      "Enter amount to withdraw\t3000\n",
      "3000 amount withdrawn, Available Balance:-> $2000\n"
     ]
    }
   ],
   "source": [
    "bank()"
   ]
  },
  {
   "cell_type": "code",
   "execution_count": 15,
   "id": "8f7e02ed",
   "metadata": {},
   "outputs": [
    {
     "name": "stdout",
     "output_type": "stream",
     "text": [
      "Enter amount to withdraw\t2500\n",
      "InsufficientFundError: Insufficient Balance, Available Balance:-> $2000\n"
     ]
    }
   ],
   "source": [
    "bank()"
   ]
  },
  {
   "cell_type": "markdown",
   "id": "6eb06804",
   "metadata": {},
   "source": [
    "#### Q6. Create custom exception class. Use this class to handle an exception."
   ]
  },
  {
   "cell_type": "code",
   "execution_count": 16,
   "id": "5bb8f4d5",
   "metadata": {},
   "outputs": [],
   "source": [
    "class AgeError(Exception):\n",
    "    def __init__(self, age):\n",
    "        self.mssg = f\"You can't vote now, try again after {18-age} years\"\n",
    "    def __str__(self):\n",
    "        return f\"AgeError:\\t{self.mssg}\""
   ]
  },
  {
   "cell_type": "code",
   "execution_count": 17,
   "id": "739b6745",
   "metadata": {},
   "outputs": [],
   "source": [
    "def validvote(name, age):\n",
    "    if age<18:\n",
    "        raise AgeError(age)\n",
    "    else:\n",
    "        print(f\"Thank you, {name.title()} for voting\", end='\\n\\n')"
   ]
  },
  {
   "cell_type": "code",
   "execution_count": 18,
   "id": "5b579b12",
   "metadata": {},
   "outputs": [],
   "source": [
    "def family(n):\n",
    "    while n:\n",
    "        name=input(\"Enter your name\\t\")\n",
    "        age=int(input(\"Enter your age\\t\"))\n",
    "        try:\n",
    "            validvote(name, age)\n",
    "        except Exception as e:\n",
    "            print(e, end='\\n\\n')\n",
    "        n-=1"
   ]
  },
  {
   "cell_type": "code",
   "execution_count": 19,
   "id": "0cbda45d",
   "metadata": {},
   "outputs": [
    {
     "name": "stdout",
     "output_type": "stream",
     "text": [
      "Enter number of members\t\n",
      "3\n",
      "Enter your name\tPrince\n",
      "Enter your age\t23\n",
      "Thank you, Prince for voting\n",
      "\n",
      "Enter your name\tPritam\n",
      "Enter your age\t12\n",
      "AgeError:\tYou can't vote now, try again after 6 years\n",
      "\n",
      "Enter your name\tDash\n",
      "Enter your age\t48\n",
      "Thank you, Dash for voting\n",
      "\n"
     ]
    }
   ],
   "source": [
    "family(int(input(\"Enter number of members\\t\\n\")))"
   ]
  }
 ],
 "metadata": {
  "kernelspec": {
   "display_name": "Python 3 (ipykernel)",
   "language": "python",
   "name": "python3"
  },
  "language_info": {
   "codemirror_mode": {
    "name": "ipython",
    "version": 3
   },
   "file_extension": ".py",
   "mimetype": "text/x-python",
   "name": "python",
   "nbconvert_exporter": "python",
   "pygments_lexer": "ipython3",
   "version": "3.9.13"
  }
 },
 "nbformat": 4,
 "nbformat_minor": 5
}
