{
 "cells": [
  {
   "cell_type": "markdown",
   "id": "34fc7868",
   "metadata": {},
   "source": [
    "#### Q1. Explain Class and Object with respect to Object-Oriented Programming. Give a suitable example."
   ]
  },
  {
   "cell_type": "markdown",
   "id": "68b62769",
   "metadata": {},
   "source": [
    "In object-oriented programming, a class is a blueprint for creating objects (a particular data structure), providing initial values for state (member variables or attributes), and implementations of behavior (member functions or methods). An object is an instance of a class, created from a class, and has the state and behavior defined by the class.<br>For Example, consider a class 'Car' with attributes 'Type' and 'Details' and its two objects 'Mahindra' and 'Tata'."
   ]
  },
  {
   "cell_type": "code",
   "execution_count": 1,
   "id": "72735b80",
   "metadata": {},
   "outputs": [],
   "source": [
    "# Class\n",
    "class Car:\n",
    "    def __init__(self, Type, Details):\n",
    "        self.Type=Type\n",
    "        self.Details=Details\n",
    "    def show_details(self):\n",
    "        print(f\"It\\'s a {self.Type} type car and of {self.Details}.\")"
   ]
  },
  {
   "cell_type": "code",
   "execution_count": 2,
   "id": "8dc5bd5a",
   "metadata": {},
   "outputs": [
    {
     "name": "stdout",
     "output_type": "stream",
     "text": [
      "It's a SUV type car and of 4WD.\n",
      "It's a Sedan type car and of FWD.\n"
     ]
    }
   ],
   "source": [
    "# Objects\n",
    "Mahindra=Car(\"SUV\",\"4WD\")\n",
    "Tata=Car(\"Sedan\", \"FWD\")\n",
    "Mahindra.show_details()\n",
    "Tata.show_details()"
   ]
  },
  {
   "cell_type": "markdown",
   "id": "42ff3c20",
   "metadata": {},
   "source": [
    "#### Q2. Name the four pillars of OOPs."
   ]
  },
  {
   "cell_type": "markdown",
   "id": "b4f4ef69",
   "metadata": {},
   "source": [
    "The four pillars of OOPS are:\n",
    "* Abstraction\n",
    "* Encapsulaton\n",
    "* Inheritance\n",
    "* Polymorphism"
   ]
  },
  {
   "cell_type": "markdown",
   "id": "a0920f5e",
   "metadata": {},
   "source": [
    "#### Q3. Explain why the \\_\\_init\\_\\_() function is used. Give a suitable example."
   ]
  },
  {
   "cell_type": "markdown",
   "id": "53e3da00",
   "metadata": {},
   "source": [
    "The \\_\\_init\\_\\_ function is a special method in Python that is automatically called when an object of a class is instantiated. It is used to initialize the attributes of an object. The \\_\\_init\\_\\_ method takes the first argument self, which refers to the object being created, and other optional arguments that are used to set the initial values of the object's attributes.\n",
    "<br>Example-"
   ]
  },
  {
   "cell_type": "code",
   "execution_count": 3,
   "id": "fbb0a27a",
   "metadata": {},
   "outputs": [],
   "source": [
    "class Car:\n",
    "    def __init__(self, Type, Details):\n",
    "        self.Type=Type\n",
    "        self.Details=Details"
   ]
  },
  {
   "cell_type": "code",
   "execution_count": 4,
   "id": "f3e9dd7d",
   "metadata": {},
   "outputs": [
    {
     "name": "stdout",
     "output_type": "stream",
     "text": [
      "RWD\n"
     ]
    }
   ],
   "source": [
    "car=Car(\"Sedan\",\"RWD\")\n",
    "print(car.Details)"
   ]
  },
  {
   "cell_type": "markdown",
   "id": "15c613f2",
   "metadata": {},
   "source": [
    "#### Q4. Why self is used in OOPs?"
   ]
  },
  {
   "cell_type": "markdown",
   "id": "e54a0925",
   "metadata": {},
   "source": [
    "In object-oriented programming (OOP), the keyword self is used as a reference to the instance of the object on which a method is being called. It is used to access the attributes and methods of the object within the class definition. The self parameter is automatically passed to the method when the method is called on an object. Other names can be used in place of 'self' as a reference."
   ]
  },
  {
   "cell_type": "markdown",
   "id": "c2626d25",
   "metadata": {},
   "source": [
    "#### Q5. What is inheritance? Give an example for each type of inheritance."
   ]
  },
  {
   "cell_type": "markdown",
   "id": "aa67abd3",
   "metadata": {},
   "source": [
    "Inheritance in python programming is the concept of deriving a new class from an existing class. Using the concept of inheritance we can inherit the properties of the existing class to our new class. The new derived class is called the child class and the existing class is called the parent class."
   ]
  },
  {
   "cell_type": "markdown",
   "id": "c1cd8910",
   "metadata": {},
   "source": [
    "* Single inheritance:"
   ]
  },
  {
   "cell_type": "code",
   "execution_count": 5,
   "id": "6e5f3242",
   "metadata": {},
   "outputs": [],
   "source": [
    "class class1:               #parent_class\n",
    "    pass\n",
    "\n",
    "class class2(class1):       #child_class\n",
    "    pass\n",
    "\n",
    "obj_name = class2()"
   ]
  },
  {
   "cell_type": "markdown",
   "id": "94c70192",
   "metadata": {},
   "source": [
    "* Multiple Inheritance:"
   ]
  },
  {
   "cell_type": "code",
   "execution_count": 6,
   "id": "6de7b6ba",
   "metadata": {},
   "outputs": [],
   "source": [
    "class parent_1:\n",
    "    pass\n",
    "\n",
    "class parent_2:\n",
    "    pass\n",
    "\n",
    "class child(parent_1,parent_2):\n",
    "    pass\n",
    "\n",
    "obj = child()"
   ]
  },
  {
   "cell_type": "markdown",
   "id": "27cd6849",
   "metadata": {},
   "source": [
    "* Multilevel Inheritance:"
   ]
  },
  {
   "cell_type": "code",
   "execution_count": 7,
   "id": "23d9e397",
   "metadata": {},
   "outputs": [],
   "source": [
    "class A:\n",
    "    pass\n",
    "\n",
    "class B(A):\n",
    "    pass\n",
    "\n",
    "class C(B):\n",
    "    pass\n",
    "\n",
    "obj = C()"
   ]
  },
  {
   "cell_type": "markdown",
   "id": "d08c6f51",
   "metadata": {},
   "source": [
    "* Hierarchical inheritance:"
   ]
  },
  {
   "cell_type": "code",
   "execution_count": 8,
   "id": "b11f4da0",
   "metadata": {},
   "outputs": [],
   "source": [
    "class A:                  #parent_class\n",
    "    pass\n",
    "    \n",
    "class B(A):               #child_class\n",
    "    pass\n",
    "\n",
    "class C(A):               #child_class\n",
    "    pass\n",
    "\n",
    "class D(A):               #child_class\n",
    "    pass\n",
    "\n",
    "obj_1 = B()       #Object_creation\n",
    "obj_2 = C()\n",
    "obj_3 = D()"
   ]
  },
  {
   "cell_type": "markdown",
   "id": "682c23cb",
   "metadata": {},
   "source": [
    "* Hybrid Inheritance:"
   ]
  },
  {
   "cell_type": "code",
   "execution_count": 9,
   "id": "4aaf7389",
   "metadata": {},
   "outputs": [],
   "source": [
    "class PC: \n",
    "    pass\n",
    "\n",
    "class Laptop(PC): \n",
    "    pass\n",
    "\n",
    "class Mouse(Laptop): \n",
    "    pass\n",
    "\n",
    "class Student3(Mouse, Laptop): \n",
    "    pass\n",
    "\n",
    "obj = Student3()"
   ]
  }
 ],
 "metadata": {
  "kernelspec": {
   "display_name": "Python 3 (ipykernel)",
   "language": "python",
   "name": "python3"
  },
  "language_info": {
   "codemirror_mode": {
    "name": "ipython",
    "version": 3
   },
   "file_extension": ".py",
   "mimetype": "text/x-python",
   "name": "python",
   "nbconvert_exporter": "python",
   "pygments_lexer": "ipython3",
   "version": "3.9.13"
  }
 },
 "nbformat": 4,
 "nbformat_minor": 5
}
