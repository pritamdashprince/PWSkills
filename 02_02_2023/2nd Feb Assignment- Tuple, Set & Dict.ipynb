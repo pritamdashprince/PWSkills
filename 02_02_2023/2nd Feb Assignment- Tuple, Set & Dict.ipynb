{
 "cells": [
  {
   "cell_type": "markdown",
   "id": "3b1e9c20",
   "metadata": {},
   "source": [
    "#### Q1. What are the characteristics of the tuples? Is tuple immutable?"
   ]
  },
  {
   "cell_type": "markdown",
   "id": "44678af6",
   "metadata": {},
   "source": [
    "The characteristics of the tuple are:\n",
    "* Ordered: The elements in a tuple have a defined order, and the order is maintained even when the elements are retrieved.\n",
    "* Immutable: Once a tuple is created, its elements cannot be modified.\n",
    "* Heterogeneous: The elements of a tuple can be of different data types.\n",
    "* Indexable: The elements of a tuple can be retrieved using indices, just like lists.\n",
    "* Hashable: Tuples can be used as keys in dictionaries or set, unlike lists which are unhashable.\n",
    "<hr>\n",
    "Yes, Tuple is immutable."
   ]
  },
  {
   "cell_type": "markdown",
   "id": "a72eeaec",
   "metadata": {},
   "source": [
    "#### Q2. What are the two tuple methods in python? Give an example of each method. Give a reason why tuples have only two in-built methods as compared to Lists."
   ]
  },
  {
   "cell_type": "markdown",
   "id": "a6c92c9e",
   "metadata": {},
   "source": [
    "The two tuple methods in Python are: count() and index()."
   ]
  },
  {
   "cell_type": "code",
   "execution_count": 1,
   "id": "ff1559c1",
   "metadata": {},
   "outputs": [],
   "source": [
    "a=(5,6,\"Prince\",6)"
   ]
  },
  {
   "cell_type": "markdown",
   "id": "6152cbc2",
   "metadata": {},
   "source": [
    "count()- Return the number of occurences of the specified value in the tuple. Returns 0 if element not present in tuple."
   ]
  },
  {
   "cell_type": "code",
   "execution_count": 2,
   "id": "02695be6",
   "metadata": {},
   "outputs": [
    {
     "data": {
      "text/plain": [
       "2"
      ]
     },
     "execution_count": 2,
     "metadata": {},
     "output_type": "execute_result"
    }
   ],
   "source": [
    "a.count(6)"
   ]
  },
  {
   "cell_type": "markdown",
   "id": "6f70833a",
   "metadata": {},
   "source": [
    "index()- Return the index of the first occurence of the element in the tuple. Raises ValueError if element not present in tuple."
   ]
  },
  {
   "cell_type": "code",
   "execution_count": 3,
   "id": "d50383ad",
   "metadata": {},
   "outputs": [
    {
     "data": {
      "text/plain": [
       "1"
      ]
     },
     "execution_count": 3,
     "metadata": {},
     "output_type": "execute_result"
    }
   ],
   "source": [
    "a.index(6)"
   ]
  },
  {
   "cell_type": "markdown",
   "id": "e60745df",
   "metadata": {},
   "source": [
    "Reason-The immutability of tuples means that the elements cannot be modified once they have been added, so there is no need for methods like \"append\", \"insert\", or \"remove\" that are commonly used with lists."
   ]
  },
  {
   "cell_type": "markdown",
   "id": "4316fa0f",
   "metadata": {},
   "source": [
    "#### Q3. Which collection datatypes in python do not allow duplicate items? Write a code using a set to remove duplicates from the given list. \n",
    "List = [1, 1, 1, 2, 1, 3, 1, 4, 2, 1, 2, 2, 2, 3, 2, 4, 3, 1, 3, 2, 3, 3, 3, 4, 4, 1, 4, 2, 4, 3, 4, 4]"
   ]
  },
  {
   "cell_type": "markdown",
   "id": "52469dea",
   "metadata": {},
   "source": [
    "The collection datatypes in python that do not allow duplicate items are dictionary(keys) and set."
   ]
  },
  {
   "cell_type": "code",
   "execution_count": 4,
   "id": "25c07701",
   "metadata": {},
   "outputs": [],
   "source": [
    "List = [1, 1, 1, 2, 1, 3, 1, 4, 2, 1, 2, 2, 2, 3, 2, 4, 3, 1, 3, 2, 3, 3, 3, 4, 4, 1, 4, 2, 4, 3, 4, 4]"
   ]
  },
  {
   "cell_type": "code",
   "execution_count": 5,
   "id": "1f12a05c",
   "metadata": {},
   "outputs": [
    {
     "name": "stdout",
     "output_type": "stream",
     "text": [
      "{1, 2, 3, 4}\n"
     ]
    }
   ],
   "source": [
    "Set = set(List)\n",
    "print(Set)"
   ]
  },
  {
   "cell_type": "markdown",
   "id": "ae57213a",
   "metadata": {},
   "source": [
    "#### Q4. Explain the difference between the union() and update() methods for a set. Give an example of each method."
   ]
  },
  {
   "cell_type": "markdown",
   "id": "e3bd5d43",
   "metadata": {},
   "source": [
    "The difference between the union() and update() methods for a set:"
   ]
  },
  {
   "cell_type": "code",
   "execution_count": 6,
   "id": "29ab8b8f",
   "metadata": {},
   "outputs": [],
   "source": [
    "set1 = {1, 2, 3}\n",
    "set2 = {3, 4, 5}"
   ]
  },
  {
   "cell_type": "markdown",
   "id": "010ec591",
   "metadata": {},
   "source": [
    "The union() method returns a new set that contains all the elements from both the original set and the input set(s). The original set remains unchanged, and the new set is the result of the union operation.\n",
    "\n",
    "For example:"
   ]
  },
  {
   "cell_type": "code",
   "execution_count": 7,
   "id": "11493a5a",
   "metadata": {},
   "outputs": [
    {
     "name": "stdout",
     "output_type": "stream",
     "text": [
      "{1, 2, 3}\n",
      "{3, 4, 5}\n",
      "{1, 2, 3, 4, 5}\n"
     ]
    }
   ],
   "source": [
    "set3 = set1.union(set2)\n",
    "print(set1)\n",
    "print(set2)\n",
    "print(set3)"
   ]
  },
  {
   "cell_type": "markdown",
   "id": "06755d12",
   "metadata": {},
   "source": [
    "The update() method modifies the original set in-place by adding all the elements from the input set(s) to the original set. The method does not return a new set, but instead, the original set is modified and returned as the result of the operation.\n",
    "\n",
    "For example:"
   ]
  },
  {
   "cell_type": "code",
   "execution_count": 8,
   "id": "438a3eb1",
   "metadata": {},
   "outputs": [
    {
     "name": "stdout",
     "output_type": "stream",
     "text": [
      "{1, 2, 3, 4, 5}\n",
      "{3, 4, 5}\n"
     ]
    }
   ],
   "source": [
    "set1.update(set2)\n",
    "print(set1)\n",
    "print(set2)"
   ]
  },
  {
   "cell_type": "markdown",
   "id": "78a5cbbd",
   "metadata": {},
   "source": [
    "In summary, the union() method returns a new set with the union of the elements, while the update() method modifies the original set in-place with the union of the elements."
   ]
  },
  {
   "cell_type": "markdown",
   "id": "8cf0f2e7",
   "metadata": {},
   "source": [
    "#### Q5. What is a dictionary? Give an example. Also, state whether a dictionary is ordered or unordered."
   ]
  },
  {
   "cell_type": "markdown",
   "id": "3440fbbe",
   "metadata": {},
   "source": [
    "A dictionary is a data structure in Python that stores key-value pairs. A key is used to identify an element in the dictionary, and its corresponding value is the data associated with that key. The keys must be unique and of a hashable type (e.g. integers, strings, tuples), while the values can be of any type."
   ]
  },
  {
   "cell_type": "code",
   "execution_count": 9,
   "id": "92bc59a3",
   "metadata": {},
   "outputs": [],
   "source": [
    "capital_cities = {\n",
    "    \"Odisha\": \"Bhubaneswar\",\n",
    "    \"West Bengal\": \"Kolkata\",\n",
    "    \"Bihar\": \"Patna\",\n",
    "    \"Chhattisgarh\": \"Raipur\"\n",
    "}"
   ]
  },
  {
   "cell_type": "code",
   "execution_count": 10,
   "id": "ac4bddb6",
   "metadata": {},
   "outputs": [
    {
     "data": {
      "text/plain": [
       "'Bhubaneswar'"
      ]
     },
     "execution_count": 10,
     "metadata": {},
     "output_type": "execute_result"
    }
   ],
   "source": [
    "capital_cities[\"Odisha\"]"
   ]
  },
  {
   "cell_type": "markdown",
   "id": "b7af9d49",
   "metadata": {},
   "source": [
    "A dictionary is unordered."
   ]
  },
  {
   "cell_type": "markdown",
   "id": "5c941be7",
   "metadata": {},
   "source": [
    "#### Q6. Can we create a nested dictionary? If so, please give an example by creating a simple one-level nested dictionary."
   ]
  },
  {
   "cell_type": "markdown",
   "id": "dfd1d57c",
   "metadata": {},
   "source": [
    "Yes, We can create a nested dictionary."
   ]
  },
  {
   "cell_type": "code",
   "execution_count": 11,
   "id": "c8a43063",
   "metadata": {},
   "outputs": [],
   "source": [
    "details={\n",
    "    \"Prince\":{\n",
    "        \"Location\":\"Cuttack\",\n",
    "        \"Phone\":\"9825xxxx\",\n",
    "        \"Age\":22\n",
    "    },\n",
    "    \"Pritam\":{\n",
    "        \"Location\":\"Bhubaneswar\",\n",
    "        \"Phone\":\"9852xxxx\",\n",
    "        \"Age\":23\n",
    "    }\n",
    "}"
   ]
  },
  {
   "cell_type": "code",
   "execution_count": 12,
   "id": "9a151ab5",
   "metadata": {},
   "outputs": [
    {
     "data": {
      "text/plain": [
       "22"
      ]
     },
     "execution_count": 12,
     "metadata": {},
     "output_type": "execute_result"
    }
   ],
   "source": [
    "details[\"Prince\"][\"Age\"]"
   ]
  },
  {
   "cell_type": "markdown",
   "id": "30625d86",
   "metadata": {},
   "source": [
    "#### Q7. Using setdefault() method, create key named topics in the given dictionary and also add the value of the key as this \n",
    "list ['Python', 'Machine Learning’, 'Deep Learning'] <br>dict1 = {'language' : 'Python', 'course': 'Data Science Masters'}"
   ]
  },
  {
   "cell_type": "code",
   "execution_count": 13,
   "id": "efcdfc26",
   "metadata": {},
   "outputs": [],
   "source": [
    "dict1={\n",
    "    \"language\":\"Python\",\n",
    "    \"course\":\"Data Science Masters\"\n",
    "}"
   ]
  },
  {
   "cell_type": "code",
   "execution_count": 14,
   "id": "3b836cfe",
   "metadata": {},
   "outputs": [
    {
     "data": {
      "text/plain": [
       "{'language': 'Python', 'course': 'Data Science Masters'}"
      ]
     },
     "execution_count": 14,
     "metadata": {},
     "output_type": "execute_result"
    }
   ],
   "source": [
    "dict1"
   ]
  },
  {
   "cell_type": "code",
   "execution_count": 15,
   "id": "91848f83",
   "metadata": {},
   "outputs": [
    {
     "data": {
      "text/plain": [
       "['Python', 'Machine Learning', 'Deep Learning']"
      ]
     },
     "execution_count": 15,
     "metadata": {},
     "output_type": "execute_result"
    }
   ],
   "source": [
    "dict1.setdefault(\"Topics\", ['Python', 'Machine Learning', 'Deep Learning'])"
   ]
  },
  {
   "cell_type": "code",
   "execution_count": 16,
   "id": "146c41b5",
   "metadata": {},
   "outputs": [
    {
     "data": {
      "text/plain": [
       "{'language': 'Python',\n",
       " 'course': 'Data Science Masters',\n",
       " 'Topics': ['Python', 'Machine Learning', 'Deep Learning']}"
      ]
     },
     "execution_count": 16,
     "metadata": {},
     "output_type": "execute_result"
    }
   ],
   "source": [
    "dict1"
   ]
  },
  {
   "cell_type": "markdown",
   "id": "cb911a33",
   "metadata": {},
   "source": [
    "#### Q8. What are the three view objects in dictionaries? Use the three in-built methods in python to display these three view objects for the given dictionary.\n",
    "dict1 = {'Sport': 'Cricket' , 'Teams': ['India', 'Australia', 'England', 'South Africa', 'Sri Lanka', 'New Zealand']}"
   ]
  },
  {
   "cell_type": "markdown",
   "id": "29fbafc9",
   "metadata": {},
   "source": [
    "The three view objects in dictionaries are: keys(), values() and items()"
   ]
  },
  {
   "cell_type": "code",
   "execution_count": 17,
   "id": "9996a3ee",
   "metadata": {},
   "outputs": [],
   "source": [
    "dict1 = {'Sport': 'Cricket' , 'Teams': ['India', 'Australia', 'England', 'South Africa', 'Sri Lanka', 'New Zealand']}"
   ]
  },
  {
   "cell_type": "code",
   "execution_count": 18,
   "id": "53e3e001",
   "metadata": {},
   "outputs": [
    {
     "data": {
      "text/plain": [
       "dict_keys(['Sport', 'Teams'])"
      ]
     },
     "execution_count": 18,
     "metadata": {},
     "output_type": "execute_result"
    }
   ],
   "source": [
    "dict1.keys()"
   ]
  },
  {
   "cell_type": "code",
   "execution_count": 19,
   "id": "ab974215",
   "metadata": {},
   "outputs": [
    {
     "data": {
      "text/plain": [
       "dict_values(['Cricket', ['India', 'Australia', 'England', 'South Africa', 'Sri Lanka', 'New Zealand']])"
      ]
     },
     "execution_count": 19,
     "metadata": {},
     "output_type": "execute_result"
    }
   ],
   "source": [
    "dict1.values()"
   ]
  },
  {
   "cell_type": "code",
   "execution_count": 20,
   "id": "88106fbf",
   "metadata": {},
   "outputs": [
    {
     "data": {
      "text/plain": [
       "dict_items([('Sport', 'Cricket'), ('Teams', ['India', 'Australia', 'England', 'South Africa', 'Sri Lanka', 'New Zealand'])])"
      ]
     },
     "execution_count": 20,
     "metadata": {},
     "output_type": "execute_result"
    }
   ],
   "source": [
    "dict1.items()"
   ]
  }
 ],
 "metadata": {
  "kernelspec": {
   "display_name": "Python 3 (ipykernel)",
   "language": "python",
   "name": "python3"
  },
  "language_info": {
   "codemirror_mode": {
    "name": "ipython",
    "version": 3
   },
   "file_extension": ".py",
   "mimetype": "text/x-python",
   "name": "python",
   "nbconvert_exporter": "python",
   "pygments_lexer": "ipython3",
   "version": "3.9.13"
  }
 },
 "nbformat": 4,
 "nbformat_minor": 5
}
